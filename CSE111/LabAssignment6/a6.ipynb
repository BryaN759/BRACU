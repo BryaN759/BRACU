{
 "cells": [
  {
   "cell_type": "code",
   "execution_count": 11,
   "metadata": {},
   "outputs": [
    {
     "name": "stdout",
     "output_type": "stream",
     "text": [
      "Enter first number: 1\n",
      "Enter the sign: +\n",
      "Enter second number: 2\n",
      "Let's Calculate!\n",
      "Value1: 1\n",
      "Operator: +\n",
      "Value2: 2\n",
      "Result: 3\n"
     ]
    }
   ],
   "source": [
    "#Q1\n",
    "class Calculator:\n",
    "    def __init__(self):\n",
    "        pass\n",
    "    def add(self,v1,v2):\n",
    "        return (v1 + v2)\n",
    "    def subtract(self,v1,v2):\n",
    "        return (v1 - v2)\n",
    "    def multiply(self,v1,v2):\n",
    "        return (v1 * v2)\n",
    "    def divide(self,v1,v2):\n",
    "        return (v1 / v2)\n",
    "    \n",
    "cal = Calculator()\n",
    "first = int(input(\"Enter first number: \"))\n",
    "sign =  input(\"Enter the sign: \")\n",
    "second =int(input(\"Enter second number: \"))\n",
    "print(\"Let's Calculate!\")\n",
    "print('Value1:',first)\n",
    "print('Operator:',sign)\n",
    "print('Value2:',second)\n",
    "if sign == '+':\n",
    "    print('Result:',cal.add(first,second))\n",
    "elif sign == '-':\n",
    "    print('Result:',cal.subtract(first,second))\n",
    "elif sign == '*':\n",
    "    print('Result:',cal.multiply(first,second))\n",
    "elif sing == '/':\n",
    "    print('Result:',cal.divide(first,second))\n",
    "        \n",
    "    "
   ]
  },
  {
   "cell_type": "code",
   "execution_count": 17,
   "metadata": {},
   "outputs": [
    {
     "name": "stdout",
     "output_type": "stream",
     "text": [
      "Hello!\n",
      "Sam, You have purchased 3 item(s):\n",
      "chips\n",
      "chocolate\n",
      "orange juice\n",
      "------------------\n",
      "Hello David!\n",
      "David, You have purchased 1 item(s):\n",
      "orange juice\n"
     ]
    }
   ],
   "source": [
    "#Q2\n",
    "class Customer:\n",
    "    def __init__(self,name):\n",
    "        self.name = name\n",
    "    def greet(self,name=None):\n",
    "        if name==None:\n",
    "            print(\"Hello!\")\n",
    "        else:\n",
    "            print(\"Hello\",self.name+\"!\")\n",
    "    def purchase(self,*args):\n",
    "        print(self.name+\",\",\"You have purchased\", len(args), \"item(s):\")\n",
    "        for i in args:\n",
    "            print(i)  \n",
    "            \n",
    "customer_1=Customer('Sam')\n",
    "customer_1.greet()\n",
    "customer_1.purchase(\"chips\",\"chocolate\",\"orange juice\")\n",
    "print(\"------------------\")\n",
    "customer_2=Customer('David')\n",
    "customer_2.greet(\"David\")\n",
    "customer_2.purchase(\"orange juice\")"
   ]
  },
  {
   "cell_type": "code",
   "execution_count": 24,
   "metadata": {},
   "outputs": [
    {
     "name": "stdout",
     "output_type": "stream",
     "text": [
      "Kunfu is a Male Panda Bear who is 5 years old\n",
      "Pan Pan is a Female Panda Bear who is 3 years old\n",
      "Ming Ming is a Female Panda Bear who is 8 years old\n",
      "Pan Pan sleeps 10 hours daily and should have Broccoli Chicken\n",
      "Kunfu sleeps 4 hours daily and should have Mixed Veggies\n",
      "Ming Ming's duration is unknown thus should have only bamboo leaves\n"
     ]
    }
   ],
   "source": [
    "#Q3\n",
    "class Panda():\n",
    "    def __init__(self,name,gender,age):\n",
    "        self.name = name\n",
    "        self.gender = gender\n",
    "        self.age = age\n",
    "    def sleep(self,hour=None):\n",
    "        if hour==None:\n",
    "             return f\"{self.name}'s duration is unknown thus should have only bamboo leaves\"\n",
    "        elif hour>=3 and hour<=5:\n",
    "            return f\"{self.name} sleeps {hour} hours daily and should have Mixed Veggies\"\n",
    "        elif hour>=6 and hour <=8:\n",
    "            return f\"{self.name} sleeps {hour} hours daily and should have Eggplant and Tofu\"\n",
    "        elif hour>=9 and hour<=11:\n",
    "             return f\"{self.name} sleeps {hour} hours daily and should have Broccoli Chicken\"\n",
    "  \n",
    "panda1 = Panda(\"Kunfu\",\"Male\", 5)\n",
    "panda2=Panda(\"Pan Pan\",\"Female\",3)\n",
    "panda3=Panda(\"Ming Ming\",\"Female\",8)\n",
    "print(\"{} is a {} Panda Bear who is {} years old\".format(panda1.name,panda1.gender,panda1.age))\n",
    "print(\"{} is a {} Panda Bear who is {} years old\".format(panda2.name,panda2.gender,panda2.age))\n",
    "print(\"{} is a {} Panda Bear who is {} years old\".format(panda3.name,panda3.gender,panda3.age))\n",
    "\n",
    "print(panda2.sleep(10))\n",
    "print(panda1.sleep(4))\n",
    "print(panda3.sleep())"
   ]
  },
  {
   "cell_type": "code",
   "execution_count": 29,
   "metadata": {},
   "outputs": [
    {
     "name": "stdout",
     "output_type": "stream",
     "text": [
      "White cat is sitting\n",
      "Black cat is sitting\n",
      "Brown cat is jumping\n",
      "Red cat is purring\n",
      "Blue cat is sitting\n",
      "Purple cat is jumping\n"
     ]
    }
   ],
   "source": [
    "#Q4\n",
    "class Cat:\n",
    "    def __init__(self,color=None,action=None):\n",
    "        if color==None and action==None:\n",
    "            self.color= \"White\"\n",
    "            self.action= \"sitting\"\n",
    "        elif color==None and action!=None:\n",
    "            self.color=\"White\"\n",
    "            self.action=action\n",
    "        elif action== None and color!=None:\n",
    "            self.color= color\n",
    "            self.action= \"sitting\"\n",
    "        else:\n",
    "            self.color = color\n",
    "            self.action = action\n",
    "    def printCat(self):\n",
    "        print(self.color, \"cat is\", self.action)\n",
    "    def changeColor(self, change):\n",
    "        self.color = change\n",
    "\n",
    "c1 = Cat()\n",
    "c2 = Cat(\"Black\")\n",
    "c3 = Cat(\"Brown\", \"jumping\")\n",
    "c4 = Cat(\"Red\", \"purring\")\n",
    "c1.printCat()\n",
    "c2.printCat()\n",
    "c3.printCat()\n",
    "c4.printCat()\n",
    "c1.changeColor(\"Blue\")\n",
    "c3.changeColor(\"Purple\")\n",
    "c1.printCat()\n",
    "c3.printCat()"
   ]
  },
  {
   "cell_type": "code",
   "execution_count": 33,
   "metadata": {},
   "outputs": [
    {
     "name": "stdout",
     "output_type": "stream",
     "text": [
      "(0,0)\n",
      "(0,1)\n",
      "(-1,1)\n",
      "(-1,0)\n"
     ]
    }
   ],
   "source": [
    "#Q5\n",
    "class Vehicle:\n",
    "    def __init__(self):\n",
    "        self.x=0\n",
    "        self.y=0\n",
    "    def moveUp(self):\n",
    "        self.y+=1\n",
    "    def moveDown(self):\n",
    "        self.y-=1\n",
    "    def moveRight(self):\n",
    "        self.x+=1\n",
    "    def moveLeft(self):\n",
    "        self.x-=1\n",
    "    def print_position(self):\n",
    "        print(f\"({self.x},{self.y})\")\n",
    "        \n",
    "car = Vehicle()\n",
    "car.print_position()\n",
    "car.moveUp()\n",
    "car.print_position()\n",
    "car.moveLeft()\n",
    "car.print_position()\n",
    "car.moveDown()\n",
    "car.print_position()\n",
    "car.moveRight()"
   ]
  },
  {
   "cell_type": "code",
   "execution_count": null,
   "metadata": {},
   "outputs": [],
   "source": []
  }
 ],
 "metadata": {
  "kernelspec": {
   "display_name": "Python 3",
   "language": "python",
   "name": "python3"
  },
  "language_info": {
   "codemirror_mode": {
    "name": "ipython",
    "version": 3
   },
   "file_extension": ".py",
   "mimetype": "text/x-python",
   "name": "python",
   "nbconvert_exporter": "python",
   "pygments_lexer": "ipython3",
   "version": "3.7.6"
  }
 },
 "nbformat": 4,
 "nbformat_minor": 4
}
