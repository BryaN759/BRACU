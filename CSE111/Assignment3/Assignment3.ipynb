{
 "cells": [
  {
   "cell_type": "code",
   "execution_count": 1,
   "metadata": {},
   "outputs": [
    {
     "name": "stdout",
     "output_type": "stream",
     "text": [
      "Enter your string: banana\n",
      "bnn3\n"
     ]
    }
   ],
   "source": [
    "#easy1\n",
    "n= input(\"Enter your string: \")\n",
    "s=[\"a\",\"e\",\"i\",\"o\",\"u\",\"A\",\"E\",\"I\",\"O\",\"U\"]\n",
    "v=[]\n",
    "nv=[]\n",
    "count=0\n",
    "for i in n:\n",
    "    if i in s:\n",
    "        count+=1\n",
    "        v.append(i)\n",
    "    else:\n",
    "        nv.append(i)\n",
    "j=\"\".join(nv)\n",
    "print(j+str(count))"
   ]
  },
  {
   "cell_type": "code",
   "execution_count": 2,
   "metadata": {},
   "outputs": [
    {
     "name": "stdout",
     "output_type": "stream",
     "text": [
      "Enter your string: abeba\n",
      "True\n"
     ]
    }
   ],
   "source": [
    "#easy2\n",
    "a=input(\"Enter your string: \")\n",
    "#a=a.split()\n",
    "#a=\"\".join(a)\n",
    "if a[::-1]==a:\n",
    "    print(\"True\")\n",
    "else:\n",
    "    print(\"False\")"
   ]
  },
  {
   "cell_type": "code",
   "execution_count": 3,
   "metadata": {},
   "outputs": [
    {
     "name": "stdout",
     "output_type": "stream",
     "text": [
      "Enter your string: wonder\n",
      "wonderful\n"
     ]
    }
   ],
   "source": [
    "#easy3\n",
    "s=input(\"Enter your string: \")\n",
    "length=len(s)\n",
    "if length>4:\n",
    "    f=s.find(\"ful\")\n",
    "    if f>-1:\n",
    "        print(s+\"ly\")\n",
    "    else:\n",
    "        print(s+\"ful\")\n",
    "else:\n",
    "    print(s)"
   ]
  },
  {
   "cell_type": "code",
   "execution_count": 4,
   "metadata": {},
   "outputs": [
    {
     "name": "stdout",
     "output_type": "stream",
     "text": [
      "Enter your string: HOusE\n",
      "HOUSE\n"
     ]
    }
   ],
   "source": [
    "#medium1\n",
    "import string\n",
    "uc=string.ascii_uppercase\n",
    "l1=list(uc)\n",
    "lc=string.ascii_lowercase\n",
    "l2=list(lc)\n",
    "uppercount=0\n",
    "lowercount=0\n",
    "s=input(\"Enter your string: \")\n",
    "for i in s:\n",
    "    if i in l1:\n",
    "        uppercount+=1\n",
    "    else:\n",
    "        lowercount+=1\n",
    "if uppercount>lowercount:\n",
    "    print(s.upper())\n",
    "else:\n",
    "    print(s.lower())"
   ]
  },
  {
   "cell_type": "code",
   "execution_count": 5,
   "metadata": {},
   "outputs": [
    {
     "name": "stdout",
     "output_type": "stream",
     "text": [
      "Enter your string: @bdde\n",
      "MIXED\n"
     ]
    }
   ],
   "source": [
    "#medium2\n",
    "import string\n",
    "a=string.ascii_letters\n",
    "al=list(a)\n",
    "acount=0\n",
    "d=string.digits\n",
    "dl=list(d)\n",
    "dcount=0\n",
    "s=input(\"Enter your string: \")\n",
    "for i in s:\n",
    "    if i in al:\n",
    "        acount+=1\n",
    "    else:\n",
    "        dcount+=1\n",
    "if acount>0 and dcount>0:\n",
    "    print(\"MIXED\")\n",
    "elif acount>0 and dcount==0:\n",
    "    print(\"WORD\")\n",
    "else:\n",
    "    print(\"NUMBER\")"
   ]
  },
  {
   "cell_type": "code",
   "execution_count": 6,
   "metadata": {},
   "outputs": [
    {
     "name": "stdout",
     "output_type": "stream",
     "text": [
      "Enter your string: baNgladEsh\n",
      "glad\n"
     ]
    }
   ],
   "source": [
    "#medium3\n",
    "import string\n",
    "ua=string.ascii_uppercase\n",
    "l=list(ua)\n",
    "s=input(\"Enter your string: \")\n",
    "revs=s[::-1]\n",
    "for i in s:\n",
    "    if i in l:\n",
    "        second=s.find(i)\n",
    "for i in revs:\n",
    "    if i in l:\n",
    "        first=s.find(i)\n",
    "#print(first)\n",
    "#print(second)\n",
    "if first+1==second:\n",
    "    print(\"BLANK\")\n",
    "else:\n",
    "    print(s[first+1:second])"
   ]
  },
  {
   "cell_type": "code",
   "execution_count": 7,
   "metadata": {},
   "outputs": [
    {
     "name": "stdout",
     "output_type": "stream",
     "text": [
      "Enter your string:  you are too good!\n",
      " you are excellent!\n"
     ]
    }
   ],
   "source": [
    "#medium4\n",
    "s=input(\"Enter your string: \")\n",
    "too=s.find(\"too\")\n",
    "good=s.find(\"good\")\n",
    "if good>too:\n",
    "    rep=s.replace(\"too good\",\"excellent\")\n",
    "    print(rep)\n",
    "else:\n",
    "    print(s)"
   ]
  },
  {
   "cell_type": "code",
   "execution_count": 8,
   "metadata": {},
   "outputs": [
    {
     "name": "stdout",
     "output_type": "stream",
     "text": [
      "Enter the first string: harry\n",
      "Enter the second string: hambara\n",
      "harrhaara\n"
     ]
    }
   ],
   "source": [
    "#hard1\n",
    "s1=input(\"Enter the first string: \")\n",
    "l1=[]\n",
    "s2=input(\"Enter the second string: \")\n",
    "l2=[]\n",
    "for i in s1:\n",
    "    if i in s2:\n",
    "        l1.append(i)\n",
    "for i in s2:\n",
    "    if i in s1:\n",
    "        l2.append(i)\n",
    "l=l1+l2\n",
    "x=\"\".join(l)\n",
    "print(x)"
   ]
  },
  {
   "cell_type": "code",
   "execution_count": 9,
   "metadata": {},
   "outputs": [
    {
     "name": "stdout",
     "output_type": "stream",
     "text": [
      "Enter your string: fixsuffixprefix\n",
      "fix\n"
     ]
    }
   ],
   "source": [
    "#hard2\n",
    "s = input(\"Enter your string: \")\n",
    "l=[]\n",
    "res = [s[i: j] for i in range(len(s)) \n",
    "          for j in range(i + 1, len(s) + 1)]\n",
    "ddd=dict()\n",
    "for i in res:\n",
    "    ddd[i]=ddd.get(i,0)+1\n",
    "#print(ddd)\n",
    "d_items=ddd.items()\n",
    "for key,value in ddd.items():\n",
    "    if value>2:\n",
    "        l.append(key)\n",
    "#print(l)\n",
    "try:        \n",
    "    for i in l:\n",
    "        if s.startswith(i):\n",
    "            if s.endswith(i):\n",
    "                x=i\n",
    "    if len(x)>0:\n",
    "        print(x)\n",
    "except:\n",
    "    print(\"Not Palindrome Substring\")"
   ]
  },
  {
   "cell_type": "code",
   "execution_count": 10,
   "metadata": {},
   "outputs": [
    {
     "name": "stdout",
     "output_type": "stream",
     "text": [
      "Enter your password: ohMYbr@cu\n",
      "Digit is missing\n"
     ]
    }
   ],
   "source": [
    "#hard3\n",
    "import string\n",
    "ul=list(string.ascii_uppercase)\n",
    "uc=0\n",
    "ll=list(string.ascii_lowercase)\n",
    "lc=0\n",
    "dl=list(string.digits)\n",
    "dc=0\n",
    "sl=[\"_\",\"$\",\"#\",\"@\"]\n",
    "sc=0\n",
    "p=input(\"Enter your password: \")\n",
    "for i in p:\n",
    "    if i in ul:\n",
    "        uc+=1\n",
    "    elif i in ll:\n",
    "        lc+=1\n",
    "    elif i in dl:\n",
    "        dc+=1\n",
    "    else:\n",
    "        sc+=1\n",
    "if uc>0 and lc>0 and dc>0 and sc>0:\n",
    "    print(\"OK\")\n",
    "elif uc>0 and lc>0 and dc>0 and sc==0:\n",
    "    print(\"Special character missing\")\n",
    "elif uc>0 and lc>0 and dc==0 and sc>0:\n",
    "    print(\"Digit is missing\")\n",
    "elif uc>0 and lc==0 and dc>0 and sc>0:\n",
    "    print(\"Lowercase character missing\")\n",
    "elif uc==0 and lc>0 and dc>0 and sc>0:\n",
    "    print(\"Uppercase character is missing\")\n",
    "elif uc==0 and lc>0 and dc==0 and sc>0:\n",
    "    print(\"Uppercase character, Digit missing\")\n",
    "elif uc>0 and lc==0 and dc==0 and sc>0:\n",
    "    print(\"Lowercase character, Digit missing\")\n",
    "elif uc>0 and lc>0 and dc==0 and sc==0:\n",
    "    print(\"Digit, Special character missing\")\n",
    "elif uc>0 and lc==0 and dc>0 and sc==0:\n",
    "    print(\"Lowercase character, Special character missing\")\n",
    "elif uc==0 and lc>0 and dc>0 and sc==0:\n",
    "    print(\"Uppercase character, Special character missing\")\n",
    "elif uc==0 and lc==0 and dc>0 and sc>0:\n",
    "    print(\"Uppercase character, Lowercase character missing\")\n",
    "elif uc==0 and lc==0 and dc==0 and sc>0:\n",
    "    print(\"Uppercase character,Lowercase character,digit missing\")\n",
    "elif uc>0 and lc==0 and dc==0 and sc==0:\n",
    "    print(\"Lowercase character,Digit,Special character missing\")\n",
    "elif uc==0 and lc>0 and dc==0 and sc==0:\n",
    "    print(\"Uppercase character,Digit,Special character missing\")\n",
    "elif uc==0 and lc==0 and dc>0 and sc==0:\n",
    "    print(\"Uppercase character,Lowercase character,Special character missing\")\n",
    "else:\n",
    "    print(\"kisu na deyar mane ki?\")"
   ]
  },
  {
   "cell_type": "code",
   "execution_count": null,
   "metadata": {},
   "outputs": [],
   "source": []
  }
 ],
 "metadata": {
  "kernelspec": {
   "display_name": "Python 3",
   "language": "python",
   "name": "python3"
  },
  "language_info": {
   "codemirror_mode": {
    "name": "ipython",
    "version": 3
   },
   "file_extension": ".py",
   "mimetype": "text/x-python",
   "name": "python",
   "nbconvert_exporter": "python",
   "pygments_lexer": "ipython3",
   "version": "3.7.6"
  }
 },
 "nbformat": 4,
 "nbformat_minor": 4
}
