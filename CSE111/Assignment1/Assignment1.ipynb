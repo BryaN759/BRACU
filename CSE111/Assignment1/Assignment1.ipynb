{
 "cells": [
  {
   "cell_type": "code",
   "execution_count": 1,
   "metadata": {},
   "outputs": [
    {
     "name": "stdout",
     "output_type": "stream",
     "text": [
      "3\n",
      "5\n",
      "6\n",
      "9\n",
      "10\n",
      "12\n",
      "15\n",
      "18\n",
      "20\n",
      "21\n",
      "24\n",
      "25\n",
      "27\n",
      "30\n"
     ]
    }
   ],
   "source": [
    "#easy1\n",
    "for i in range(1,31):\n",
    "    if((i%3==0) or (i%5==0)):\n",
    "        print(i)\n",
    "    "
   ]
  },
  {
   "cell_type": "code",
   "execution_count": 2,
   "metadata": {},
   "outputs": [
    {
     "name": "stdout",
     "output_type": "stream",
     "text": [
      "Enter first number11\n",
      "Enter second number23\n",
      "Enter third number21\n",
      "23\n"
     ]
    }
   ],
   "source": [
    "#easy2\n",
    "A = int(input(\"Enter first number\"))\n",
    "B = int(input(\"Enter second number\"))\n",
    "C = int(input(\"Enter third number\"))\n",
    "if A>=B and A>=C:\n",
    "    print(A)\n",
    "elif B>=A and B>=C:\n",
    "    print(B)\n",
    "else :\n",
    "    print(C)\n",
    "    "
   ]
  },
  {
   "cell_type": "markdown",
   "metadata": {},
   "source": []
  },
  {
   "cell_type": "code",
   "execution_count": 3,
   "metadata": {},
   "outputs": [
    {
     "name": "stdout",
     "output_type": "stream",
     "text": [
      "Enter your marks85\n",
      "A-\n"
     ]
    }
   ],
   "source": [
    "#easy3\n",
    "M = int(input(\"Enter your marks\"))\n",
    "grade=\"\"\n",
    "if M>= 90:\n",
    "   grade=\"A\"\n",
    "elif ((M>=85) and (M<=89)):\n",
    "   grade=\"A-\"\n",
    "elif ((M>=80) and (M<=84)):\n",
    "   grade=\"B+\"\n",
    "elif ((M>=75) and (M<=79)):\n",
    "   grade=\"B\"\n",
    "elif ((M>=70) and (M<=74)):\n",
    "   grade=\"B-\"\n",
    "elif ((M>=65) and (M<=69)):\n",
    "   grade=\"C+\"\n",
    "elif ((M>=60) and (M<=64)):\n",
    "   grade=\"C\"\n",
    "elif ((M>=57) and (M<=59)):\n",
    "   grade+\"c-\"\n",
    "elif ((M>=55) and (M<=56)):\n",
    "   grade=\"D+\"\n",
    "elif ((M>=52) and (M<=54)):\n",
    "   grade=\"D\"\n",
    "elif ((M>=50) and (M<=51)):\n",
    "   grade=\"D-\"\n",
    "else:\n",
    "   grade=\"F\"\n",
    "print(grade)"
   ]
  },
  {
   "cell_type": "code",
   "execution_count": 4,
   "metadata": {},
   "outputs": [
    {
     "name": "stdout",
     "output_type": "stream",
     "text": [
      "Enter your number please11\n",
      "Prime\n"
     ]
    }
   ],
   "source": [
    "#easy4\n",
    "num = int(input(\"Enter your number please\"))\n",
    "for i in range(2,num):\n",
    "    if num%i==0:\n",
    "        print(\"Not Prime\")\n",
    "        break\n",
    "else: \n",
    "    print(\"Prime\")\n"
   ]
  },
  {
   "cell_type": "code",
   "execution_count": 6,
   "metadata": {},
   "outputs": [
    {
     "name": "stdout",
     "output_type": "stream",
     "text": [
      "Fibonacci 10\n",
      "0\n",
      "1\n",
      "1\n",
      "2\n",
      "3\n",
      "5\n",
      "8\n"
     ]
    }
   ],
   "source": [
    "#medium1\n",
    "N = int(input(\"Fibonacci \"))\n",
    "a=0\n",
    "b=1\n",
    "print(a)\n",
    "print(b)\n",
    "for i in range (N):\n",
    "   c=a+b\n",
    "   if a+b>N:\n",
    "       break\n",
    "   else:\n",
    "       print(a+b)\n",
    "       a=b\n",
    "       b=c"
   ]
  },
  {
   "cell_type": "code",
   "execution_count": 7,
   "metadata": {},
   "outputs": [
    {
     "name": "stdout",
     "output_type": "stream",
     "text": [
      "Enter your number 234\n",
      "432\n"
     ]
    }
   ],
   "source": [
    "#medium2\n",
    "N = int(input(\"Enter your number \"))\n",
    "d=0\n",
    "rev=0\n",
    "while(N!=0):\n",
    "    d=N%10\n",
    "    rev=rev*10+d\n",
    "    N=N//10\n",
    "print(rev)"
   ]
  },
  {
   "cell_type": "markdown",
   "metadata": {},
   "source": []
  },
  {
   "cell_type": "code",
   "execution_count": 8,
   "metadata": {},
   "outputs": [
    {
     "name": "stdout",
     "output_type": "stream",
     "text": [
      "Enter your number6\n",
      "Perfect number\n"
     ]
    }
   ],
   "source": [
    "#medium3\n",
    "num =int(input(\"Enter your number\"))\n",
    "sum=0\n",
    "for i in range(1,num):\n",
    "    if num%i==0:\n",
    "        sum=sum+i\n",
    "if sum==num:\n",
    "    print(\"Perfect number\")\n",
    "else:\n",
    "    print(\"Not Perfect number\")"
   ]
  },
  {
   "cell_type": "code",
   "execution_count": 10,
   "metadata": {},
   "outputs": [
    {
     "name": "stdout",
     "output_type": "stream",
     "text": [
      "Enter your number 122345\n",
      "5\n"
     ]
    }
   ],
   "source": [
    "#hard1\n",
    "num=input(\"Enter your number \")\n",
    "\n",
    "l=list()\n",
    "for i in num:\n",
    "    if i not in l:\n",
    "        l.append(i)\n",
    "print(len(l))"
   ]
  },
  {
   "cell_type": "code",
   "execution_count": 11,
   "metadata": {},
   "outputs": [
    {
     "name": "stdout",
     "output_type": "stream",
     "text": [
      "Enter the number of rows: 3\n",
      "    *     \n",
      "  *   *   \n",
      "* * * * * \n",
      "  *   *   \n",
      "    *     \n"
     ]
    }
   ],
   "source": [
    "#hard2\n",
    "N = int(input(\"Enter the number of rows: \"))\n",
    "for row in range(1,N+1):\n",
    "    for col in range(1,N*2):\n",
    "        if row==N or col+row==N+1 or col-row==N-1:\n",
    "            print(\"*\",end=\" \")\n",
    "        else:\n",
    "            print(\" \",end=\" \")\n",
    "    print()      \n",
    "for row in range(N-1,0,-1):\n",
    "    for col in range(1,N*2):\n",
    "        if col+row==N+1 or col-row==N-1:\n",
    "            print(\"*\",end=\" \")\n",
    "        else:\n",
    "            print(\" \",end=\" \")\n",
    "    print()\n",
    "    "
   ]
  },
  {
   "cell_type": "code",
   "execution_count": 12,
   "metadata": {},
   "outputs": [
    {
     "name": "stdout",
     "output_type": "stream",
     "text": [
      "Enter a number:37\n",
      "7\n"
     ]
    }
   ],
   "source": [
    "#hard3\n",
    "num=int(input(\"Enter a number:\"))\n",
    "num=bin(num)\n",
    "num=num.replace(\"0b\",\"\")\n",
    "num=num.replace(\"0\",\"\")\n",
    "num=int(num,2)\n",
    "print(num)"
   ]
  },
  {
   "cell_type": "code",
   "execution_count": null,
   "metadata": {},
   "outputs": [],
   "source": []
  }
 ],
 "metadata": {
  "kernelspec": {
   "display_name": "Python 3",
   "language": "python",
   "name": "python3"
  },
  "language_info": {
   "codemirror_mode": {
    "name": "ipython",
    "version": 3
   },
   "file_extension": ".py",
   "mimetype": "text/x-python",
   "name": "python",
   "nbconvert_exporter": "python",
   "pygments_lexer": "ipython3",
   "version": "3.7.6"
  }
 },
 "nbformat": 4,
 "nbformat_minor": 4
}
