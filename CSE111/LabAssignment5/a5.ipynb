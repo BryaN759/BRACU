{
 "cells": [
  {
   "cell_type": "code",
   "execution_count": 1,
   "metadata": {},
   "outputs": [
    {
     "name": "stdout",
     "output_type": "stream",
     "text": [
      "Integer\n",
      "1234\n",
      "=====================\n",
      "String\n",
      "Hello\n",
      "=====================\n",
      "Float\n",
      "4.0\n"
     ]
    }
   ],
   "source": [
    "#Q1\n",
    "class DataType():\n",
    "    def __init__(self,name,value):\n",
    "        self.name=name\n",
    "        self.value=value\n",
    "\n",
    "        \n",
    "data_type1 = DataType('Integer', 1234)\n",
    "print(data_type1.name)\n",
    "print(data_type1.value)\n",
    "print('=====================')\n",
    "data_type2 = DataType('String', 'Hello')\n",
    "print(data_type2.name)\n",
    "print(data_type2.value)\n",
    "print('=====================')\n",
    "data_type3 = DataType('Float', 4.0)\n",
    "print(data_type3.name)\n",
    "print(data_type3.value)"
   ]
  },
  {
   "cell_type": "code",
   "execution_count": 3,
   "metadata": {},
   "outputs": [
    {
     "name": "stdout",
     "output_type": "stream",
     "text": [
      "Name of this flower: Rose\n",
      "Color of this flower: Red\n",
      "Number of petal: 6\n",
      "=====================\n",
      "Name of this flower: Orchid\n",
      "Color of this flower: Purple\n",
      "Number of petal: 4\n",
      "=====================\n",
      "they are different\n"
     ]
    }
   ],
   "source": [
    "#Q2\n",
    "class Flower():\n",
    "    def __init__(self):\n",
    "        self.name=\"\"\n",
    "        self.color=\"\"\n",
    "        self.num_of_petal=0\n",
    "    \n",
    "flower1 = Flower()\n",
    "flower1.name=\"Rose\"\n",
    "flower1.color=\"Red\"\n",
    "flower1.num_of_petal=6\n",
    "print(\"Name of this flower:\", flower1.name)\n",
    "print(\"Color of this flower:\",flower1.color)\n",
    "print(\"Number of petal:\",flower1.num_of_petal)\n",
    "print('=====================')\n",
    "flower2 = Flower()\n",
    "flower2.name=\"Orchid\"\n",
    "flower2.color=\"Purple\"\n",
    "flower2.num_of_petal=4\n",
    "print(\"Name of this flower:\",flower2.name)\n",
    "print(\"Color of this flower:\",flower2.color)\n",
    "print (\"Number of petal:\",flower2. num_of_petal)\n",
    "print(\"=====================\")\n",
    "if flower1==flower2:\n",
    "    print('they are same')\n",
    "else:\n",
    "    print(\"they are different\")"
   ]
  },
  {
   "cell_type": "code",
   "execution_count": 4,
   "metadata": {},
   "outputs": [
    {
     "name": "stdout",
     "output_type": "stream",
     "text": [
      "Part 1 :\n",
      "Name of the president:  Aladeen\n",
      "Designation:  President Prime Minister Admiral General\n",
      "Number of wife:  100\n",
      "is he/she a dictator:  True\n",
      "Part 2 :\n",
      "Name of the president:  Donald Trump\n",
      "Designation:  President\n",
      "Number of wife:  1\n",
      "is he/she a dictator:  False\n",
      "\n",
      "No, changing had no effect on previous value\n"
     ]
    }
   ],
   "source": [
    "#Q3\n",
    "class Wadiya():\n",
    "    def __init__(self):\n",
    "        self.name = 'Aladeen'\n",
    "        self.designation = 'President Prime Minister Admiral General'\n",
    "        self.num_of_wife = 100\n",
    "        self.dictator = True\n",
    "\n",
    "wadiya = Wadiya()\n",
    "print(\"Part 1 :\")\n",
    "print(\"Name of the president: \",wadiya.name)\n",
    "print(\"Designation: \",wadiya.designation)\n",
    "print(\"Number of wife: \",wadiya.num_of_wife)\n",
    "print(\"is he/she a dictator: \",wadiya.dictator)\n",
    "wadiya.name = 'Donald Trump'\n",
    "wadiya.designation = 'President'\n",
    "wadiya.num_of_wife = 1\n",
    "wadiya.dictator = False\n",
    "print(\"Part 2 :\")\n",
    "print(\"Name of the president: \",wadiya.name)\n",
    "print(\"Designation: \",wadiya.designation)\n",
    "print(\"Number of wife: \",wadiya.num_of_wife)\n",
    "print(\"is he/she a dictator: \",wadiya.dictator)\n",
    "print(\"\")\n",
    "print(\"No, changing had no effect on previous value\")"
   ]
  },
  {
   "cell_type": "code",
   "execution_count": 7,
   "metadata": {},
   "outputs": [
    {
     "name": "stdout",
     "output_type": "stream",
     "text": [
      "Heath Ledger\n",
      "Mind Game\n",
      "False\n",
      "=====================\n",
      "Joaquin Phoenix\n",
      "Laughing out Loud\n",
      "True\n",
      "=====================\n",
      "different\n",
      "same\n",
      "The first if/else block prints the output as ‘different’ because j1 and j2 have different class parameter values.\n",
      "The second if/else block prints the output as ‘same’ because j2.name was updated before the second block.\n"
     ]
    }
   ],
   "source": [
    "#Q4\n",
    "class Joker():\n",
    "    def __init__(self,name,power,x):\n",
    "        self.name=name\n",
    "        self.power=power\n",
    "        self.is_he_psycho=x\n",
    "\n",
    "j1 = Joker('Heath Ledger', 'Mind Game', False)\n",
    "print(j1.name)\n",
    "print(j1.power)\n",
    "print(j1.is_he_psycho)\n",
    "print(\"=====================\")\n",
    "j2 = Joker('Joaquin Phoenix', 'Laughing out Loud', True)\n",
    "print(j2.name)\n",
    "print(j2.power)\n",
    "print(j2.is_he_psycho)\n",
    "print(\"=====================\")\n",
    "if j1 == j2:\n",
    "    print('same')\n",
    "else:\n",
    "    print('different')\n",
    "j2.name = 'Heath Ledger'\n",
    "if j1.name == j2.name:\n",
    "    print('same')\n",
    "else:\n",
    "    print('different')\n",
    "print(\"The first if/else block prints the output as ‘different’ because j1 and j2 have different class parameter values.\")\n",
    "print(\"The second if/else block prints the output as ‘same’ because j2.name was updated before the second block.\")"
   ]
  },
  {
   "cell_type": "code",
   "execution_count": null,
   "metadata": {},
   "outputs": [],
   "source": [
    "#Q5\n",
    "class Pokemon():\n",
    "    def __init__(self,name1,name2,power1,power2, rate):\n",
    "        self.pokemon1_name=name1\n",
    "        self.pokemon2_name=name2\n",
    "        self.pokemon1_power=power1\n",
    "        self.pokemon2_power=power2\n",
    "        self.damage_rate=rate\n",
    "\n",
    "team_pika = Pokemon('pikachu', 'charmander', 90, 60, 10)\n",
    "print('=======Team 1=======')\n",
    "print('Pokemon 1:',team_pika.pokemon1_name,\n",
    "team_pika.pokemon1_power)\n",
    "\n",
    "print('Pokemon 2:',team_pika.pokemon2_name,\n",
    "team_pika.pokemon2_power)\n",
    "pika_combined_power = (team_pika.pokemon1_power +\n",
    "team_pika.pokemon2_power) * team_pika.damage_rate\n",
    "print('Combined Power:', pika_combined_power)\n",
    "\n",
    "team_bulb= Pokemon('bulbasaur', 'squirtle', 80, 70,9)\n",
    "print('=======Team 2=======')\n",
    "print('Pokemon 1:',team_bulb.pokemon1_name,\n",
    "team_bulb.pokemon1_power)\n",
    "\n",
    "print('Pokemon 2:',team_bulb.pokemon2_name,\n",
    "team_bulb.pokemon2_power)\n",
    "bulb_combined_power = (team_bulb.pokemon1_power +\n",
    "team_bulb.pokemon2_power) * team_bulb.damage_rate\n",
    "print('Combined Power:', bulb_combined_power)"
   ]
  }
 ],
 "metadata": {
  "kernelspec": {
   "display_name": "Python 3",
   "language": "python",
   "name": "python3"
  },
  "language_info": {
   "codemirror_mode": {
    "name": "ipython",
    "version": 3
   },
   "file_extension": ".py",
   "mimetype": "text/x-python",
   "name": "python",
   "nbconvert_exporter": "python",
   "pygments_lexer": "ipython3",
   "version": "3.7.6"
  }
 },
 "nbformat": 4,
 "nbformat_minor": 4
}
