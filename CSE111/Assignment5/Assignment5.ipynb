{
 "cells": [
  {
   "cell_type": "code",
   "execution_count": 1,
   "metadata": {},
   "outputs": [
    {
     "name": "stdout",
     "output_type": "stream",
     "text": [
      "Enter your keys and values separated by comma: a:100,b:200,c:300,d:400\n",
      "Enter number: 200\n",
      "True\n",
      "Enter number: 600\n",
      "False\n",
      "Enter number: STOP\n"
     ]
    }
   ],
   "source": [
    "#easy1\n",
    "n=input(\"Enter your keys and values separated by comma: \")\n",
    "ddd = dict(i.split(':') for i in n.split(','))\n",
    "while True:\n",
    "    num=input(\"Enter number: \")\n",
    "    if num==\"STOP\":\n",
    "        break\n",
    "    else:\n",
    "        x=num in ddd.values()\n",
    "        print(x)\n"
   ]
  },
  {
   "cell_type": "code",
   "execution_count": 1,
   "metadata": {},
   "outputs": [
    {
     "name": "stdout",
     "output_type": "stream",
     "text": [
      "Enter your keys and values separated by comma: Physics: 82, Math : 65,History: 75\n",
      "Minimum:  Math \n",
      "Maximum: Physics\n"
     ]
    }
   ],
   "source": [
    "#easy2\n",
    "n=input(\"Enter your keys and values separated by comma: \")\n",
    "ddd = dict(i.split(':') for i in n.split(','))\n",
    "for key,value in ddd.items():\n",
    "    ddd[key]=int(value)\n",
    "#print(ddd)\n",
    "key_list = list(ddd.keys()) \n",
    "val_list = list(ddd.values())\n",
    "v=ddd.values()\n",
    "mini=key_list[val_list.index(min(v))]\n",
    "maxi=key_list[val_list.index(max(v))]\n",
    "print(\"Minimum:\",mini)\n",
    "print(\"Maximum:\",maxi)\n",
    "    "
   ]
  },
  {
   "cell_type": "code",
   "execution_count": 2,
   "metadata": {},
   "outputs": [
    {
     "name": "stdout",
     "output_type": "stream",
     "text": [
      "Enter a number: 10\n",
      "Enter a number: 20\n",
      "Enter a number: 30\n",
      "Enter a number: 40\n",
      "Enter a number: 50\n",
      "Enter a number: 60\n",
      "Enter a number: 10\n",
      "Duplicate\n",
      "Enter a number: 70\n",
      "Enter a number: 80\n",
      "Enter a number: 90\n",
      "Enter a number: 00\n",
      "10 20 30 40 50 60 70 80 90 0 "
     ]
    }
   ],
   "source": [
    "#easy3\n",
    "ddd = {}\n",
    "n = 0\n",
    "while n<10:\n",
    "    x = int(input(\"Enter a number: \"))\n",
    "    if ddd.get(x) is None:\n",
    "        ddd[x] = 1\n",
    "        n+=1\n",
    "    else:\n",
    "        print(\"Duplicate\")\n",
    "for i in ddd:\n",
    "    print(i, end = \" \")"
   ]
  },
  {
   "cell_type": "code",
   "execution_count": 3,
   "metadata": {},
   "outputs": [
    {
     "name": "stdout",
     "output_type": "stream",
     "text": [
      "Enter your keys and values separated by comma: a: 100, b: 100, c: 200, d: 300\n",
      "Enter your keys and values separated by comma: a: 300, b: 200, d: 400, e: 200\n",
      "{'a': 400, ' b': 300, ' c': 200, ' d': 700, ' e': 200}\n",
      "Values: (200, 200, 300, 400, 700)\n"
     ]
    }
   ],
   "source": [
    "#medium1\n",
    "n1=input(\"Enter your keys and values separated by comma: \")\n",
    "dd1 = dict(i.split(':') for i in n1.split(','))\n",
    "for key,value in dd1.items():\n",
    "    dd1[key]=int(value)\n",
    "n2=input(\"Enter your keys and values separated by comma: \")\n",
    "dd2 = dict(i.split(':') for i in n2.split(','))\n",
    "for key,value in dd2.items():\n",
    "    dd2[key]=int(value)\n",
    "for key in dd1:\n",
    "    if key in dd2:\n",
    "        dd1[key]=dd1[key]+dd2[key]\n",
    "for key,value in dd2.items():\n",
    "    if key not in dd1.keys():\n",
    "        dd1.update({key : value})\n",
    "print(dd1)\n",
    "import operator\n",
    "sd= dict(sorted(dd1.items(), key=operator.itemgetter(1)))\n",
    "l=list(sd.values())\n",
    "print(\"Values:\",tuple(l))\n",
    " "
   ]
  },
  {
   "cell_type": "code",
   "execution_count": 4,
   "metadata": {},
   "outputs": [
    {
     "name": "stdout",
     "output_type": "stream",
     "text": [
      "Enter number: 10\n",
      "Enter number: 20\n",
      "Enter number: 30\n",
      "Enter number: 10\n",
      "Enter number: 20\n",
      "Enter number: 50\n",
      "Enter number: 90\n",
      "Enter number: STOP\n",
      "10 - 2 times\n",
      "20 - 2 times\n",
      "30 - 1 times\n",
      "50 - 1 times\n",
      "90 - 1 times\n"
     ]
    }
   ],
   "source": [
    "#medium2\n",
    "ddd={}\n",
    "l=[]\n",
    "while True:\n",
    "    n=input(\"Enter number: \")\n",
    "    if n==\"STOP\":\n",
    "        break\n",
    "    else:\n",
    "        l.append(n)\n",
    "for i in l:\n",
    "    ddd[i]=ddd.get(i,0)+1\n",
    "#print(ddd)\n",
    "for key,value in ddd.items():\n",
    "    print(key,\"-\",value,\"times\")"
   ]
  },
  {
   "cell_type": "code",
   "execution_count": 5,
   "metadata": {},
   "outputs": [
    {
     "name": "stdout",
     "output_type": "stream",
     "text": [
      "Enter your keys and values separated by comma: key1:value1,key2:value2,key3:value1\n",
      "{'value1': ['key1', 'key3'], 'value2': ['key2']}\n"
     ]
    }
   ],
   "source": [
    "#medium3\n",
    "n=input(\"Enter your keys and values separated by comma: \")\n",
    "ddd = dict(i.split(':') for i in n.split(','))\n",
    "#rev_d={value : key for key, value in ddd.items()}\n",
    "#print(rev_d)\n",
    "#print(ddd)\n",
    "rev_d= {}  \n",
    "for key, value in ddd.items(): \n",
    "    if value not in rev_d: \n",
    "        rev_d[value] = [key] \n",
    "    else: \n",
    "        rev_d[value].append(key)\n",
    "print(rev_d)"
   ]
  },
  {
   "cell_type": "code",
   "execution_count": 7,
   "metadata": {},
   "outputs": [
    {
     "name": "stdout",
     "output_type": "stream",
     "text": [
      "Enter your first string: evil\n",
      "Enter your second string: live\n",
      "\n",
      "Those strings are anagrams.\n"
     ]
    }
   ],
   "source": [
    "#hard1\n",
    "n1=input(\"Enter your first string: \")\n",
    "l1=list(n1)\n",
    "dd1={}\n",
    "for i in l1:\n",
    "    dd1[i]=dd1.get(i,0)+1\n",
    "#print(dd1)\n",
    "n2=input(\"Enter your second string: \")\n",
    "l2=list(n2)\n",
    "dd2={}\n",
    "for i in l2:\n",
    "    dd2[i]=dd2.get(i,0)+1\n",
    "#print(dd2) \n",
    "print(\"\")\n",
    "if dd1==dd2:\n",
    "     print(\"Those strings are anagrams.\")\n",
    "else:\n",
    "     print(\"Those strings are not anagrams.\")"
   ]
  },
  {
   "cell_type": "code",
   "execution_count": 8,
   "metadata": {},
   "outputs": [
    {
     "name": "stdout",
     "output_type": "stream",
     "text": [
      "Enter your string: Bebeh\n",
      "2233223344\n"
     ]
    }
   ],
   "source": [
    "#hard2\n",
    "ddd={'.':'1',',':'11','?':'111','!':'1111',':':'11111','a':'2','b':'22','c':'222','d':'3','e':'33','f':'333','g':'4','h':'44','i':'444','j':'5','k':'55','l':'555','m':'6','n':'66','o':'666','p':'7','q':'77','r':'777','s':'7777','t':'8','u':'88','v':'888','w':'9','x':'99','y':'999','z':'9999',' ':'0'}\n",
    "n=input(\"Enter your string: \").lower()\n",
    "#print(ddd)\n",
    "nl=list(n)\n",
    "#print(nl)\n",
    "l=[]\n",
    "for  i in nl:\n",
    "    l.append(ddd.get(i))\n",
    "x=\"\".join(l)\n",
    "print(x)"
   ]
  },
  {
   "cell_type": "code",
   "execution_count": null,
   "metadata": {},
   "outputs": [],
   "source": []
  }
 ],
 "metadata": {
  "kernelspec": {
   "display_name": "Python 3",
   "language": "python",
   "name": "python3"
  },
  "language_info": {
   "codemirror_mode": {
    "name": "ipython",
    "version": 3
   },
   "file_extension": ".py",
   "mimetype": "text/x-python",
   "name": "python",
   "nbconvert_exporter": "python",
   "pygments_lexer": "ipython3",
   "version": "3.7.6"
  }
 },
 "nbformat": 4,
 "nbformat_minor": 4
}
