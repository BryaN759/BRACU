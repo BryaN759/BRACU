{
 "cells": [
  {
   "cell_type": "code",
   "execution_count": 1,
   "metadata": {},
   "outputs": [
    {
     "name": "stdout",
     "output_type": "stream",
     "text": [
      "Enter your numbers to the list: 1\n",
      "Enter your numbers to the list: 2\n",
      "Enter your numbers to the list: 3\n",
      "Enter your numbers to the list: 4\n",
      "Enter your numbers to the list: 5\n",
      "Enter your numbers to the list: 6\n",
      "Enter your numbers to the list: 7\n",
      "Enter your numbers to the list: 8\n",
      "Enter your numbers to the list: 9\n",
      "Enter your numbers to the list: 10\n",
      "[10, 9, 8, 7, 6, 5, 4, 3, 2, 1]\n"
     ]
    }
   ],
   "source": [
    "#easy1\n",
    "l=[]\n",
    "maximum= 10\n",
    "while len(l)<maximum:\n",
    "    n=int(input(\"Enter your numbers to the list: \"))\n",
    "    l.append(n)\n",
    "l.reverse()\n",
    "print(l)"
   ]
  },
  {
   "cell_type": "code",
   "execution_count": 2,
   "metadata": {},
   "outputs": [
    {
     "name": "stdout",
     "output_type": "stream",
     "text": [
      "Enter the first list elements: 1,3,5,7,10\n",
      "Enter the second list elements: 2,4,6,8\n",
      "['1', '3', '5', '7', '2', '4', '6', '8']\n"
     ]
    }
   ],
   "source": [
    "#easy2\n",
    "a=input(\"Enter the first list elements: \")\n",
    "b=input(\"Enter the second list elements: \")\n",
    "l1=a.split(\",\")\n",
    "l2=b.split(\",\")\n",
    "l1.pop()\n",
    "s=l1+l2\n",
    "print(s)"
   ]
  },
  {
   "cell_type": "code",
   "execution_count": 4,
   "metadata": {},
   "outputs": [
    {
     "name": "stdout",
     "output_type": "stream",
     "text": [
      "Enter your numbers for the list: 1\n",
      "Enter your numbers for the list: 2\n",
      "Enter your numbers for the list: 2\n",
      "Duplicate number not allowed. Please enter another number below\n",
      "Enter your numbers for the list: 3\n",
      "Enter your numbers for the list: 4\n",
      "Enter your numbers for the list: 5\n",
      "Enter your numbers for the list: 65\n",
      "Enter your numbers for the list: 7\n",
      "Enter your numbers for the list: 8\n",
      "Enter your numbers for the list: 9\n",
      "Enter your numbers for the list: 65\n",
      "Duplicate number not allowed. Please enter another number below\n",
      "Enter your numbers for the list: 10\n",
      "['1', '2', '3', '4', '5', '65', '7', '8', '9', '10']\n"
     ]
    }
   ],
   "source": [
    "#easy3\n",
    "l=[]\n",
    "highest=10\n",
    "while len(l)<highest:\n",
    "    n=input(\"Enter your numbers for the list: \")\n",
    "    if n not in l:\n",
    "        l.append(n)\n",
    "    else:\n",
    "        print(\"Duplicate number not allowed. Please enter another number below\")\n",
    "        continue\n",
    "print(l)"
   ]
  },
  {
   "cell_type": "code",
   "execution_count": 5,
   "metadata": {},
   "outputs": [
    {
     "name": "stdout",
     "output_type": "stream",
     "text": [
      "Enter your numbers one by one: 10\n",
      "Enter your numbers one by one: 20\n",
      "Enter your numbers one by one: 20\n",
      "Enter your numbers one by one: 30\n",
      "Enter your numbers one by one: 10\n",
      "Enter your numbers one by one: 50\n",
      "Enter your numbers one by one: 90\n",
      "Enter your numbers one by one: STOP\n",
      "10 - 2 times\n",
      "20 - 2 times\n",
      "30 - 1 times\n",
      "50 - 1 times\n",
      "90 - 1 times\n"
     ]
    }
   ],
   "source": [
    "#medium1\n",
    "l=[]\n",
    "while True:\n",
    "    n=input(\"Enter your numbers one by one: \")\n",
    "    if n==\"STOP\":\n",
    "        break\n",
    "    l.append(n)\n",
    "l2=[]\n",
    "for i in l:\n",
    "    if i not in l2:\n",
    "        l2.append(i)\n",
    "l2.sort()        \n",
    "for i in range(0,len(l2)):\n",
    "    print(l2[i],\"-\",l.count(l2[i]),\"times\")\n",
    "    \n",
    "#a=[[x,l.count(x)] for x in set(l)]\n",
    "#print(a)"
   ]
  },
  {
   "cell_type": "code",
   "execution_count": 6,
   "metadata": {},
   "outputs": [
    {
     "name": "stdout",
     "output_type": "stream",
     "text": [
      "Enter the number of lists: 4\n",
      "Enter your lists: 1 2 3\n",
      "Enter your lists: 4 5 6\n",
      "Enter your lists: 10 11 12\n",
      "Enter your lists: 7 8 9\n",
      "33\n",
      "[10, 11, 12]\n"
     ]
    }
   ],
   "source": [
    "#medium2\n",
    "N=int(input(\"Enter the number of lists: \"))\n",
    "l=[]\n",
    "highest=int()\n",
    "while len(l)<N:\n",
    "    n=list(map(int, input(\"Enter your lists: \").split()))\n",
    "    s=sum(n)\n",
    "    if highest< s:\n",
    "        highest= s\n",
    "        hl=n        \n",
    "    l.append(s)  \n",
    "print(highest)\n",
    "print(hl)"
   ]
  },
  {
   "cell_type": "code",
   "execution_count": 7,
   "metadata": {},
   "outputs": [
    {
     "name": "stdout",
     "output_type": "stream",
     "text": [
      "Enter your first list: 2 3 6\n",
      "Enter your second list: 3 4 5\n",
      "[6, 8, 10, 9, 12, 15, 18, 24, 30]\n"
     ]
    }
   ],
   "source": [
    "#medium3\n",
    "l1=list(map(int, input(\"Enter your first list: \").split()))\n",
    "l2=list(map(int, input(\"Enter your second list: \").split()))\n",
    "l=[]\n",
    "gen = ((x, y) for x in l1 for y in l2)\n",
    "\n",
    "for u, v in gen:\n",
    "    s=u*v\n",
    "    l.append(s)\n",
    "print(l)"
   ]
  },
  {
   "cell_type": "code",
   "execution_count": 8,
   "metadata": {},
   "outputs": [
    {
     "name": "stdout",
     "output_type": "stream",
     "text": [
      "Enter list number: 3\n",
      "Enter the list elements: a,b,c,d,e,f,g,h,i,j,k,l,m,n\n",
      "[['a', 'd', 'g', 'j', 'm'], ['b', 'e', 'h', 'k', 'n'], ['c', 'f', 'i', 'l']]\n"
     ]
    }
   ],
   "source": [
    "#medium4\n",
    "def nest_list(a, b):\n",
    "    a=l.split(\",\")\n",
    "    return [a[i::b] for i in range(b)]\n",
    "N=int(input(\"Enter list number: \"))\n",
    "l=input(\"Enter the list elements: \")\n",
    "print(nest_list(l,N))"
   ]
  },
  {
   "cell_type": "code",
   "execution_count": 9,
   "metadata": {},
   "outputs": [
    {
     "name": "stdout",
     "output_type": "stream",
     "text": [
      "Enter your list elements: 1 4 2 3\n",
      "UB Jumper\n",
      "Enter your list elements: 2 1 4 6 10\n",
      "UB Jumper\n",
      "Enter your list elements: 1 4 2 -1 6\n",
      "Not UB Jumper\n",
      "Enter your list elements: STOP\n"
     ]
    }
   ],
   "source": [
    "#hard1\n",
    "while True:\n",
    "    try:\n",
    "        l=list(map(int, input(\"Enter your list elements: \").split()))   \n",
    "        #x=int(n)\n",
    "        #l=list((x).split())\n",
    "        N=len(l)\n",
    "        lst=[]\n",
    "        n=[l[i+1]-l[i] for i in range(N-1)]\n",
    "        pl =  [abs(i) for i in n] \n",
    "        for i in pl:\n",
    "            if i>N:\n",
    "                lst.append(i)\n",
    "                \n",
    "        if len(lst)==0:\n",
    "            print(\"UB Jumper\")\n",
    "        else:\n",
    "            print(\"Not UB Jumper\")\n",
    "    except:\n",
    "        break"
   ]
  },
  {
   "cell_type": "code",
   "execution_count": 10,
   "metadata": {},
   "outputs": [
    {
     "name": "stdout",
     "output_type": "stream",
     "text": [
      "Enter yout string: Bracu1234\n",
      "acruB1324\n"
     ]
    }
   ],
   "source": [
    "#hard2\n",
    "import string\n",
    "d=list(string.digits)\n",
    "dl=[]\n",
    "u=list(string.ascii_uppercase)\n",
    "ul=[]\n",
    "l=list(string.ascii_lowercase)\n",
    "ll=[]\n",
    "s=input(\"Enter yout string: \")\n",
    "for i in s:\n",
    "    if i in l:\n",
    "        ll.append(i)\n",
    "    elif i in u:\n",
    "        ul.append(i)\n",
    "    else:\n",
    "        dl.append(i)\n",
    "ll.sort()\n",
    "ul.sort()\n",
    "odd=[]\n",
    "even=[]\n",
    "for i in dl:\n",
    "    if int(i)%2==1:\n",
    "        odd.append(i)\n",
    "    else:\n",
    "        even.append(i)\n",
    "lst=ll+ul+odd+even\n",
    "final=\"\".join(lst)\n",
    "print(final)"
   ]
  },
  {
   "cell_type": "code",
   "execution_count": 11,
   "metadata": {},
   "outputs": [
    {
     "name": "stdout",
     "output_type": "stream",
     "text": [
      "Enter number of members and championship: 5 2\n",
      "Enter the participation history of 5 members\n",
      "Here: 0 4 5 10\n",
      "invalid input.Enter again\n",
      "Enter the participation history of 5 members\n",
      "Here: 0 4 5 1 0\n",
      "1\n"
     ]
    }
   ],
   "source": [
    "#hard3\n",
    "n,k=map(int,input(\"Enter number of members and championship: \").split())\n",
    "\n",
    "while True:\n",
    "    print(\"Enter the participation history of\" ,n,\"members\")\n",
    "    a=list(map(int,input(\"Here: \").split()))\n",
    "    if len(a)==n:\n",
    "        #print(\"Nice\")\n",
    "        l=[]\n",
    "        for i in range(n):\n",
    "            s=a[i]+k\n",
    "            if s<=5:\n",
    "                l.append(a[i])\n",
    "        x=len(l)//3\n",
    "        print(x)\n",
    "        break\n",
    "    else:\n",
    "        print(\"invalid input.Enter again\")\n",
    "        continue\n",
    "#print(n)\n",
    "#print(k)\n",
    "#print(a)"
   ]
  },
  {
   "cell_type": "code",
   "execution_count": null,
   "metadata": {},
   "outputs": [],
   "source": []
  }
 ],
 "metadata": {
  "kernelspec": {
   "display_name": "Python 3",
   "language": "python",
   "name": "python3"
  },
  "language_info": {
   "codemirror_mode": {
    "name": "ipython",
    "version": 3
   },
   "file_extension": ".py",
   "mimetype": "text/x-python",
   "name": "python",
   "nbconvert_exporter": "python",
   "pygments_lexer": "ipython3",
   "version": "3.7.6"
  }
 },
 "nbformat": 4,
 "nbformat_minor": 4
}
