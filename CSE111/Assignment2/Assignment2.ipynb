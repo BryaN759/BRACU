{
 "cells": [
  {
   "cell_type": "code",
   "execution_count": 1,
   "metadata": {},
   "outputs": [
    {
     "name": "stdout",
     "output_type": "stream",
     "text": [
      "Enter your first number: 5\n",
      "Enter your second number: 2\n",
      "0.5\n"
     ]
    }
   ],
   "source": [
    "#easy1\n",
    "def easy1(a,b):\n",
    "    if b==0:\n",
    "        return 0\n",
    "    else:  \n",
    "      c=(a/b)-(a//b)\n",
    "      return (c)\n",
    "num1=int(input(\"Enter your first number: \"))\n",
    "num2=int(input(\"Enter your second number: \"))\n",
    "print(easy1(num1,num2))"
   ]
  },
  {
   "cell_type": "code",
   "execution_count": 2,
   "metadata": {},
   "outputs": [
    {
     "name": "stdout",
     "output_type": "stream",
     "text": [
      "Enter your height(in cm): 152\n",
      "Enter your weight(in kg): 48\n",
      "Score is 20.8  You are Normal\n"
     ]
    }
   ],
   "source": [
    "#easy2\n",
    "def easy2(h,w):\n",
    "    return(w/(h/100)**2)\n",
    "nh=int(input(\"Enter your height(in cm): \"))\n",
    "nw=int(input(\"Enter your weight(in kg): \"))\n",
    "bmi=easy2(nh,nw)\n",
    "if bmi<18.5:\n",
    "    print(\"Score is\",(\"{:3.1f}\".format(bmi)),\" You are Underweight\")\n",
    "elif bmi>=18.5 and bmi<=24.9:\n",
    "    print(\"Score is\",(\"{:3.1f}\".format(bmi)),\" You are Normal\")\n",
    "elif bmi>=25 and bmi<=30:\n",
    "    print(\"Your score is\",(\"{:3.1f}\".format(bmi)),\" You are Overweight\")\n",
    "else:\n",
    "    print(\"Score is\",(\"{:3.1f}\".format(bmi)),\" You are Obese\")"
   ]
  },
  {
   "cell_type": "code",
   "execution_count": 3,
   "metadata": {},
   "outputs": [
    {
     "name": "stdout",
     "output_type": "stream",
     "text": [
      "Enter the minimum: 3\n",
      "Enter the maximum: 16\n",
      "Enter the divisor: 3\n",
      "45\n"
     ]
    }
   ],
   "source": [
    "#easy3\n",
    "def easy3(a,b,c):\n",
    "   l=[]\n",
    "   for i in range(a,b):\n",
    "       if i%c==0:\n",
    "           l.append(i)\n",
    "   s=sum(l)\n",
    "   return(s)\n",
    "min=int(input(\"Enter the minimum: \"))\n",
    "max=int(input(\"Enter the maximum: \"))\n",
    "d=int(input(\"Enter the divisor: \"))\n",
    "print(easy3(min,max,d))"
   ]
  },
  {
   "cell_type": "code",
   "execution_count": 4,
   "metadata": {},
   "outputs": [
    {
     "name": "stdout",
     "output_type": "stream",
     "text": [
      "Please enter your order: Beef Burger\n",
      "Please enter your location: Dhanmondi\n",
      "243.6\n"
     ]
    }
   ],
   "source": [
    "#medium1\n",
    "def med1(a,b=\"Mohakhali\"):\n",
    "    if b!=\"Mohakhali\":\n",
    "        if a==\"BBQ Chicken Cheese Burger\":\n",
    "            t=250+60+(250*(8/100))\n",
    "        elif a==\"Beef Burger\":\n",
    "            t=170+60+(170*(8/100))\n",
    "        elif a==\"Naga Drums\":\n",
    "            t=200+60+(200*(8/100))\n",
    "    else:\n",
    "        if a==\"BBQ Chicken Cheese Burger\":\n",
    "            t=250+40+(250*(8/100))\n",
    "        elif a==\"Beef Burger\":\n",
    "            t=170+40+(170(8/100))\n",
    "        elif a==\"Naga Drums\":\n",
    "            t=200+40+(200(8/100))\n",
    "    return(t)\n",
    "\n",
    "order=input(\"Please enter your order: \")\n",
    "place=input(\"Please enter your location: \")\n",
    "print(med1(order,place))"
   ]
  },
  {
   "cell_type": "code",
   "execution_count": 5,
   "metadata": {},
   "outputs": [
    {
     "name": "stdout",
     "output_type": "stream",
     "text": [
      "Enter your Email: khaled@kaaj.com\n",
      "Enter new domain: sheba.xyz\n",
      "Enter old domain: kaaj.com\n",
      "khaled@sheba.xyz\n"
     ]
    }
   ],
   "source": [
    "#medium2\n",
    "def replace_domain(a,b,c=\"kaaj.com\"):\n",
    "    if c in a:\n",
    "        old=a.find(\"kaaj.com\")\n",
    "        dom=a[0:old]\n",
    "        return(dom+b)\n",
    "    else:\n",
    "        return(a)\n",
    "e=input(\"Enter your Email: \")\n",
    "n=input(\"Enter new domain: \")\n",
    "o=input(\"Enter old domain: \")\n",
    "print(replace_domain(e,n,o))"
   ]
  },
  {
   "cell_type": "code",
   "execution_count": 6,
   "metadata": {},
   "outputs": [
    {
     "name": "stdout",
     "output_type": "stream",
     "text": [
      "Enter your name: Steve Jobs\n",
      "Vowels:  ['e', 'e', 'o'] . Total number of vowels:  3\n"
     ]
    }
   ],
   "source": [
    "#meidum3\n",
    "def med3(a):\n",
    "    count=0\n",
    "    vow= []\n",
    "    l= [\"a\",\"e\",\"i\",\"o\",\"u\",\"A\",\"E\",\"I\",\"O\",\"U\"]\n",
    "    for i in a:\n",
    "        if i in l:\n",
    "            count=count+1   \n",
    "            vow.append(i) \n",
    "    if count>0:\n",
    "        print(\"Vowels: \",vow,\". Total number of vowels: \",count)\n",
    "    else:\n",
    "        print(\"No vowels in our name.\")\n",
    "          \n",
    "        \n",
    "name=input(\"Enter your name: \")\n",
    "med3(name)\n"
   ]
  },
  {
   "cell_type": "code",
   "execution_count": 8,
   "metadata": {},
   "outputs": [
    {
     "name": "stdout",
     "output_type": "stream",
     "text": [
      "Enter your word or phrase: nurses run\n",
      "Palindrome\n"
     ]
    }
   ],
   "source": [
    "#medium4\n",
    "def med4(a):\n",
    "    a=a.split()\n",
    "    a=\"\".join(a)\n",
    "    if a[::-1]==a:\n",
    "        print(\"Palindrome\")\n",
    "    else:\n",
    "        print(\"Not a palindrome\")\n",
    "\n",
    "inp= input(\"Enter your word or phrase: \") \n",
    "\n",
    "med4(inp)\n"
   ]
  },
  {
   "cell_type": "code",
   "execution_count": 9,
   "metadata": {},
   "outputs": [
    {
     "name": "stdout",
     "output_type": "stream",
     "text": [
      "Enter your name: alice\n",
      "Enter your salary: 20000\n",
      "Enter your joining date(yyyy-mm-dd): 2017-03-21\n",
      "alice : 2000.0\n",
      "Enter your name: Exit\n"
     ]
    }
   ],
   "source": [
    "#hard1\n",
    "def hard1(*args):\n",
    "    count=0\n",
    "    while count<len(args):\n",
    "        from datetime import datetime\n",
    "        tday=datetime.today().date()\n",
    "        jday=datetime.strptime(args[count+2],'%Y-%m-%d').date()\n",
    "        dif=tday-jday\n",
    "        tld=dif.days\n",
    "        if tld<1826:\n",
    "            x=(args[count+1]*0.1)\n",
    "        elif tld>=1826 and tld<=3652:\n",
    "            x=(args[count+1]*0.1)+5000\n",
    "        else:\n",
    "            x=(args[count+1]*0.15)+15000\n",
    "        print(args[count],\":\",x)\n",
    "        count+=3\n",
    "while True:\n",
    "    n=input(\"Enter your name: \")\n",
    "    #user has to input 'Exit' or 'Done' to stop the program\n",
    "    if n == \"Exit\" or n == \"Done\":\n",
    "        break\n",
    "    s=float(input(\"Enter your salary: \"))\n",
    "    d=input(\"Enter your joining date(yyyy-mm-dd): \") \n",
    "    hard1(n,s,d)"
   ]
  },
  {
   "cell_type": "code",
   "execution_count": 10,
   "metadata": {},
   "outputs": [
    {
     "name": "stdout",
     "output_type": "stream",
     "text": [
      "Enter the number of days: 426\n",
      "1 year, 2 months, 1 day.\n"
     ]
    }
   ],
   "source": [
    "#hard2\n",
    "def hard2(a):\n",
    "    y=a//365\n",
    "    m= (a%365)//30\n",
    "    d=(a%365)%30\n",
    "    if y<=1 and m>1 and d>1:\n",
    "        p=str(y)+\" year, \"+str(m)+\" months, \"+str(d)+\" days.\"\n",
    "    elif y<=1 and m<=1 and d>1:\n",
    "        p=str(y)+\" year, \"+str(m)+\" month, \"+str(d)+\" days.\"\n",
    "    elif y<=1 and m<=1 and d<=1:\n",
    "        p=str(y)+\" year, \"+str(m)+\" month, \"+str(d)+\" day.\"\n",
    "    elif y>1 and m<=1 and d>1 :\n",
    "        p=str(y)+\" years, \"+str(m)+\" month, \"+str(d)+\" days.\"\n",
    "    elif y>1 and m<=1 and d<=1:\n",
    "        p=str(y)+\" years, \"+str(m)+\" month, \"+str(d)+\" day.\"       \n",
    "    elif y>1 and m>1 and d<=1:\n",
    "        p=str(y)+\" years, \"+str(m)+\" months, \"+str(d)+\" day.\"\n",
    "    elif y<=1 and m>1 and d<=1:\n",
    "        p=str(y)+\" year, \"+str(m)+\" months, \"+str(d)+\" day.\"\n",
    "    else:\n",
    "        p=str(y)+\" years, \"+str(m)+\" months, \"+str(d)+\" days.\"\n",
    "    print(p)\n",
    "days=int(input(\"Enter the number of days: \"))\n",
    "hard2(days)"
   ]
  },
  {
   "cell_type": "code",
   "execution_count": null,
   "metadata": {},
   "outputs": [],
   "source": [
    "#hard3\n",
    "def hard3(text):\n",
    "    import re\n",
    "    splt= re.split('([.!?] *)', text)\n",
    "    cap= [x.capitalize() for x in splt]\n",
    "    j= ' '.join(cap)\n",
    "    i=j.replace(\" i \", \" I \")   \n",
    "    return(i)\n",
    "passage= input(\"Enter your text: \")\n",
    "print(hard3(passage))"
   ]
  }
 ],
 "metadata": {
  "kernelspec": {
   "display_name": "Python 3",
   "language": "python",
   "name": "python3"
  },
  "language_info": {
   "codemirror_mode": {
    "name": "ipython",
    "version": 3
   },
   "file_extension": ".py",
   "mimetype": "text/x-python",
   "name": "python",
   "nbconvert_exporter": "python",
   "pygments_lexer": "ipython3",
   "version": "3.7.6"
  }
 },
 "nbformat": 4,
 "nbformat_minor": 4
}
