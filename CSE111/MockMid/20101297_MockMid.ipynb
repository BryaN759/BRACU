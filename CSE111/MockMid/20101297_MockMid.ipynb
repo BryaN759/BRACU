{
 "cells": [
  {
   "cell_type": "code",
   "execution_count": 2,
   "metadata": {},
   "outputs": [
    {
     "name": "stdout",
     "output_type": "stream",
     "text": [
      "Enter your string: WEloVeCsE111\n",
      "Number of lower case letters: 4\n"
     ]
    }
   ],
   "source": [
    "#answer1\n",
    "lc='abcdefghijklmnopqrstuvwxyz'\n",
    "st=''\n",
    "s=input(\"Enter your string: \")\n",
    "count=0\n",
    "for i in s:\n",
    "    if i in lc:\n",
    "        st+i\n",
    "        count+=1\n",
    "print(\"Number of lower case letters:\",count)"
   ]
  },
  {
   "cell_type": "code",
   "execution_count": 4,
   "metadata": {},
   "outputs": [
    {
     "name": "stdout",
     "output_type": "stream",
     "text": [
      "Enter yout number: 31\n",
      "Prime\n"
     ]
    }
   ],
   "source": [
    "#answer2\n",
    "def primeCheck(a):\n",
    "    a=int(a)\n",
    "    for i in range(2,a):\n",
    "        if a%i==0:\n",
    "            x =\"Not Prime\"\n",
    "            break\n",
    "    else:\n",
    "         x=\"Prime\"\n",
    "    return(x)\n",
    "num=int(input(\"Enter yout number: \"))\n",
    "print(primeCheck(num))"
   ]
  },
  {
   "cell_type": "code",
   "execution_count": 5,
   "metadata": {},
   "outputs": [
    {
     "name": "stdout",
     "output_type": "stream",
     "text": [
      "Enter names and numbers: [‘U’, ‘63’, ‘V’,  ‘84’, ‘W’, ‘79’, ‘X’, ‘91’, ‘Y’, ‘54’] \n",
      "[' ‘V’', '  ‘84’', ' ‘W’', ' ‘79’', ' ‘X’', ' ‘91’', ' ‘Y’', ' ‘54’] ', '[‘U’', ' ‘63’']\n"
     ]
    }
   ],
   "source": [
    "#answer3\n",
    "n=input(\"Enter names and numbers: \").split(\",\")\n",
    "l1=[]\n",
    "l2=[]\n",
    "for i in range(0,len(n),2):\n",
    "    l1.append(n[i])\n",
    "for i in range(1,len(n),2):\n",
    "    l2.append(n[i])\n",
    "for i in range(len(l1)-1):\n",
    "    for j in range(i+1,len(l1)):\n",
    "        if l1[i]>l1[j]:\n",
    "            temp = l1[i]\n",
    "            l1[i] = l1[j]\n",
    "            l1[j] = temp\n",
    "            tem=l2[i]\n",
    "            l2[i] = l2[j]\n",
    "            l2[j] = tem\n",
    "l3 = [j[i] for i in range(len(l2)) for j in [l1, l2]]\n",
    "print(l3)"
   ]
  },
  {
   "cell_type": "code",
   "execution_count": null,
   "metadata": {},
   "outputs": [],
   "source": []
  },
  {
   "cell_type": "code",
   "execution_count": null,
   "metadata": {},
   "outputs": [],
   "source": []
  }
 ],
 "metadata": {
  "kernelspec": {
   "display_name": "Python 3",
   "language": "python",
   "name": "python3"
  },
  "language_info": {
   "codemirror_mode": {
    "name": "ipython",
    "version": 3
   },
   "file_extension": ".py",
   "mimetype": "text/x-python",
   "name": "python",
   "nbconvert_exporter": "python",
   "pygments_lexer": "ipython3",
   "version": "3.7.6"
  }
 },
 "nbformat": 4,
 "nbformat_minor": 4
}
