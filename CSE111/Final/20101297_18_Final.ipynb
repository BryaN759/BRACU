{
 "cells": [
  {
   "cell_type": "code",
   "execution_count": 12,
   "metadata": {},
   "outputs": [
    {
     "name": "stdout",
     "output_type": "stream",
     "text": [
      "Enter dict: 20\n",
      "{1: 0, 2: 1, 3: 1, 4: 2, 5: 3, 6: 5, 7: 8, 8: 13}\n",
      "Enter first number: 3\n",
      "Enter second number: 5\n",
      "Enter third number: 11\n",
      "1\n",
      "3\n",
      "No fibo\n"
     ]
    }
   ],
   "source": [
    "#Q1\n",
    "lst=[]\n",
    "def fib(n):\n",
    "    a=0\n",
    "    b=1\n",
    "    lst.append(a)\n",
    "    lst.append(b)\n",
    "    for i in range(2,n):\n",
    "        c=a+b\n",
    "        a=b\n",
    "        b=c\n",
    "        lst.append(c)\n",
    "    return lst\n",
    "\n",
    "m=int(input(\"Enter the value that the dictionary would extend upto: \"))\n",
    "fib(m)\n",
    "nl=[]\n",
    "for i in lst:\n",
    "    if i<=m:\n",
    "        nl.append(i)\n",
    "    else:\n",
    "        break\n",
    "#print(nl)\n",
    "ddd={}\n",
    "k=1\n",
    "for i in nl:\n",
    "    ddd[k]=i\n",
    "    k+=1\n",
    "print(ddd)\n",
    "n1=int(input(\"Enter first number: \"))\n",
    "n2=int(input(\"Enter second number: \"))\n",
    "n3=int(input(\"Enter third number: \"))\n",
    "kl=[]\n",
    "vl=[]\n",
    "for k,v in ddd.items():\n",
    "    kl.append(k)\n",
    "    vl.append(v)\n",
    "#print(kl)\n",
    "#print(vl)\n",
    "if n1 in kl:\n",
    "    print(vl[n1-1])\n",
    "else:\n",
    "    print('No fibo')\n",
    "if n2 in kl:\n",
    "    print(vl[n2-1])\n",
    "else:\n",
    "    print('No fibo')\n",
    "if n3 in kl:\n",
    "    print(vl[n3-1])\n",
    "else:\n",
    "    print('No fibo')\n"
   ]
  },
  {
   "cell_type": "code",
   "execution_count": 7,
   "metadata": {},
   "outputs": [
    {
     "name": "stdout",
     "output_type": "stream",
     "text": [
      "Total Avengers: 0\n",
      "=========================\n",
      "Name:  Captain America\n",
      "Partner:  Bucky Barnes\n",
      "Super Powers:  Stamina , Slowed ageing\n",
      "=========================\n",
      "Name:  Doctor Strange\n",
      "Partner:  Ancient One\n",
      "Super Powers:  Mastery of magic , Gifted surgeon\n",
      "=========================\n",
      "Name:  Iron Man\n",
      "Partner:  War Machine\n",
      "Super Powers:  Genius level intellect , Scientist \n",
      "=========================\n",
      "Total Avengers: 3\n"
     ]
    }
   ],
   "source": [
    "#Q2\n",
    "class Avengers:\n",
    "    count=0\n",
    "    def __init__(self,main,part):\n",
    "        self.main=main\n",
    "        self.part=part\n",
    "    def super_powers(self,p1,p2):\n",
    "        self.p1=p1\n",
    "        self.p2=p2\n",
    "    def printAvengersDetail(self):\n",
    "        Avengers.count+=1\n",
    "        print(\"Name: \",self.main)\n",
    "        print(\"Partner: \",self.part)\n",
    "        print(\"Super Powers: \",self.p1,',',self.p2)\n",
    "\n",
    "\n",
    "\n",
    "\n",
    "\n",
    "print('Total Avengers:', Avengers.count)\n",
    "a1 = Avengers('Captain America', 'Bucky Barnes')\n",
    "a1.super_powers('Stamina', 'Slowed ageing')\n",
    "a2 = Avengers('Doctor Strange', 'Ancient One')\n",
    "a2.super_powers('Mastery of magic', 'Gifted surgeon')\n",
    "a3 = Avengers('Iron Man', 'War Machine')\n",
    "a3.super_powers('Genius level intellect', 'Scientist ')\n",
    "print(\"=========================\")\n",
    "a1.printAvengersDetail()\n",
    "print(\"=========================\")\n",
    "a2.printAvengersDetail()\n",
    "print(\"=========================\")\n",
    "a3.printAvengersDetail()\n",
    "print(\"=========================\")\n",
    "print('Total Avengers:', Avengers.count)"
   ]
  },
  {
   "cell_type": "code",
   "execution_count": 8,
   "metadata": {},
   "outputs": [
    {
     "name": "stdout",
     "output_type": "stream",
     "text": [
      "This is Asus Zenbook 14\n",
      "The Laptop is working properly\n",
      "=========================\n",
      "This is Dell Inspiron\n",
      "The Laptop is working properly\n",
      "=========================\n"
     ]
    }
   ],
   "source": [
    "#Q3\n",
    "class Laptop:\n",
    "    def __init__(self, name):\n",
    "        self.name = name\n",
    "    def check(self):\n",
    "          print('The Laptop is working properly')\n",
    "class Asus(Laptop):\n",
    "    def __init__(self,name):\n",
    "        super().__init__(name)\n",
    "    def check(self):\n",
    "        print(\"This is Asus\",self.name)\n",
    "        super().check()  \n",
    "class Dell(Laptop):\n",
    "    def __init__(self,name):\n",
    "        super().__init__(name)\n",
    "    def check(self):\n",
    "        print(\"This is Dell\",self.name)\n",
    "        super().check()\n",
    "\n",
    "        \n",
    "a = Asus(\"Zenbook 14\")\n",
    "d = Dell(\"Inspiron\")\n",
    "a.check()\n",
    "print(\"=========================\")\n",
    "d.check()\n",
    "print(\"=========================\")"
   ]
  },
  {
   "cell_type": "code",
   "execution_count": 13,
   "metadata": {},
   "outputs": [
    {
     "name": "stdout",
     "output_type": "stream",
     "text": [
      "Enter how long you want your series to be: 65\n",
      "Enter your values: 28\n",
      "{1: 1, 2: 6, 3: 15, 4: 28, 5: 45}\n"
     ]
    },
    {
     "ename": "NameError",
     "evalue": "name 'Val' is not defined",
     "output_type": "error",
     "traceback": [
      "\u001b[1;31m---------------------------------------------------------------------------\u001b[0m",
      "\u001b[1;31mNameError\u001b[0m                                 Traceback (most recent call last)",
      "\u001b[1;32m<ipython-input-13-ad4e263a4ea2>\u001b[0m in \u001b[0;36m<module>\u001b[1;34m\u001b[0m\n\u001b[0;32m     14\u001b[0m \u001b[0mprint\u001b[0m\u001b[1;33m(\u001b[0m\u001b[0md\u001b[0m\u001b[1;33m)\u001b[0m\u001b[1;33m\u001b[0m\u001b[1;33m\u001b[0m\u001b[0m\n\u001b[0;32m     15\u001b[0m \u001b[1;32mtry\u001b[0m\u001b[1;33m:\u001b[0m\u001b[1;33m\u001b[0m\u001b[1;33m\u001b[0m\u001b[0m\n\u001b[1;32m---> 16\u001b[1;33m     \u001b[0mprint\u001b[0m\u001b[1;33m(\u001b[0m\u001b[0mlist\u001b[0m\u001b[1;33m(\u001b[0m\u001b[0md\u001b[0m\u001b[1;33m.\u001b[0m\u001b[0mkeys\u001b[0m\u001b[1;33m(\u001b[0m\u001b[1;33m)\u001b[0m\u001b[1;33m)\u001b[0m\u001b[1;33m[\u001b[0m\u001b[0mlist\u001b[0m\u001b[1;33m(\u001b[0m\u001b[0md\u001b[0m\u001b[1;33m.\u001b[0m\u001b[0mvalues\u001b[0m\u001b[1;33m(\u001b[0m\u001b[1;33m)\u001b[0m\u001b[1;33m)\u001b[0m\u001b[1;33m.\u001b[0m\u001b[0mindex\u001b[0m\u001b[1;33m(\u001b[0m\u001b[0mVal\u001b[0m\u001b[1;33m)\u001b[0m\u001b[1;33m]\u001b[0m\u001b[1;33m)\u001b[0m\u001b[1;33m\u001b[0m\u001b[1;33m\u001b[0m\u001b[0m\n\u001b[0m\u001b[0;32m     17\u001b[0m \u001b[1;32mexcept\u001b[0m \u001b[0mValueError\u001b[0m\u001b[1;33m:\u001b[0m\u001b[1;33m\u001b[0m\u001b[1;33m\u001b[0m\u001b[0m\n\u001b[0;32m     18\u001b[0m     \u001b[0mprint\u001b[0m\u001b[1;33m(\u001b[0m\u001b[1;34m'No such value exists.'\u001b[0m\u001b[1;33m)\u001b[0m\u001b[1;33m\u001b[0m\u001b[1;33m\u001b[0m\u001b[0m\n",
      "\u001b[1;31mNameError\u001b[0m: name 'Val' is not defined"
     ]
    }
   ],
   "source": [
    "k=int(input(\"Enter how long you want your series to be: \"))\n",
    "value = int(input(\"Enter your values: \"))\n",
    "d={}\n",
    "def eq(inp):\n",
    "    return int((inp*2*(inp*2-1))/2)\n",
    "key=1\n",
    "while True:\n",
    "    value = eq(key)\n",
    "    if value>k:\n",
    "        break\n",
    "    else:\n",
    "        d[key] = value\n",
    "    key += 1\n",
    "print(d)\n",
    "try:\n",
    "    print(list(d.keys())[list(d.values()).index(Val)])\n",
    "except ValueError:\n",
    "    print('No such value exists.')"
   ]
  },
  {
   "cell_type": "code",
   "execution_count": 14,
   "metadata": {},
   "outputs": [
    {
     "name": "stdout",
     "output_type": "stream",
     "text": [
      "65\n",
      "28\n",
      "{1: 1, 2: 6, 3: 15, 4: 28, 5: 45}\n",
      "4\n"
     ]
    }
   ],
   "source": [
    "K = int(input())\n",
    "Val = int(input())\n",
    "dic = {}\n",
    "def eq(inp):\n",
    "    return int((inp*2*(inp*2-1))/2)\n",
    "key = 1\n",
    "while True:\n",
    "    value = eq(key)\n",
    "    if value > K:\n",
    "        break\n",
    "    else:\n",
    "        dic[key] = value\n",
    "    key += 1\n",
    "print(dic)\n",
    "try:\n",
    "    print(list(dic.keys())[list(dic.values()).index(Val)])\n",
    "except ValueError:\n",
    "    print('no such value exists')"
   ]
  },
  {
   "cell_type": "code",
   "execution_count": 15,
   "metadata": {},
   "outputs": [
    {
     "name": "stdout",
     "output_type": "stream",
     "text": [
      "65\n",
      "28\n",
      "{1: 1.0, 2: 6.0, 3: 15.0, 4: 28.0, 5: 45.0}\n",
      "Key: 4 Value: 28\n"
     ]
    }
   ],
   "source": [
    "k=int(input())\n",
    "v=int(input())\n",
    "my_dict={}\n",
    "for n in range(1,k+1):\n",
    "    y=(2*n*(2*n-1))/2\n",
    "    if y<=k:\n",
    "        my_dict[n]=y\n",
    "print(my_dict)\n",
    "f=v in my_dict.values()\n",
    "if f==True:\n",
    "    x=(list(my_dict.keys())[list(my_dict.values()).index(v)])\n",
    "    print(\"Key: \"+str(x)+\" Value: \"+str(v))\n",
    "else:\n",
    "    print(\"not found\")"
   ]
  },
  {
   "cell_type": "code",
   "execution_count": 16,
   "metadata": {},
   "outputs": [
    {
     "name": "stdout",
     "output_type": "stream",
     "text": [
      "AB\n",
      "BC\n",
      "BE\n"
     ]
    }
   ],
   "source": [
    "My_dict = {'A':87,'B':93,'C':90,'D':84,'E':89}\n",
    "l=[]\n",
    "for key, val in My_dict.items() :\n",
    "    for key1,val1 in My_dict.items() :\n",
    "        if key==key1 : continue\n",
    "        if (val+val1)/2>=90 : \n",
    "            if not key1+key in l : l.append(key+key1)\n",
    "for i in l : print(i)"
   ]
  },
  {
   "cell_type": "code",
   "execution_count": 2,
   "metadata": {},
   "outputs": [
    {
     "name": "stdout",
     "output_type": "stream",
     "text": [
      "Enter abcd\n",
      "abcd\n"
     ]
    }
   ],
   "source": [
    "n=input(\"Enter \")\n",
    "print(n)"
   ]
  },
  {
   "cell_type": "code",
   "execution_count": null,
   "metadata": {},
   "outputs": [],
   "source": []
  }
 ],
 "metadata": {
  "kernelspec": {
   "display_name": "Python 3",
   "language": "python",
   "name": "python3"
  },
  "language_info": {
   "codemirror_mode": {
    "name": "ipython",
    "version": 3
   },
   "file_extension": ".py",
   "mimetype": "text/x-python",
   "name": "python",
   "nbconvert_exporter": "python",
   "pygments_lexer": "ipython3",
   "version": "3.7.6"
  }
 },
 "nbformat": 4,
 "nbformat_minor": 4
}
