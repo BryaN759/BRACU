{
  "nbformat": 4,
  "nbformat_minor": 0,
  "metadata": {
    "colab": {
      "provenance": []
    },
    "kernelspec": {
      "name": "python3",
      "display_name": "Python 3"
    },
    "language_info": {
      "name": "python"
    },
    "accelerator": "GPU"
  },
  "cells": [
    {
      "cell_type": "code",
      "source": [
        "!pip install tensorflow==1.15.0"
      ],
      "metadata": {
        "colab": {
          "base_uri": "https://localhost:8080/"
        },
        "id": "L3y0yGFYiWRI",
        "outputId": "2e8d13d8-749d-4907-c57b-d14440d18718"
      },
      "execution_count": null,
      "outputs": [
        {
          "output_type": "stream",
          "name": "stdout",
          "text": [
            "Looking in indexes: https://pypi.org/simple, https://us-python.pkg.dev/colab-wheels/public/simple/\n",
            "Requirement already satisfied: tensorflow==1.15.0 in /usr/local/lib/python3.7/dist-packages (1.15.0)\n",
            "Requirement already satisfied: astor>=0.6.0 in /usr/local/lib/python3.7/dist-packages (from tensorflow==1.15.0) (0.8.1)\n",
            "Requirement already satisfied: protobuf>=3.6.1 in /usr/local/lib/python3.7/dist-packages (from tensorflow==1.15.0) (3.17.3)\n",
            "Requirement already satisfied: gast==0.2.2 in /usr/local/lib/python3.7/dist-packages (from tensorflow==1.15.0) (0.2.2)\n",
            "Requirement already satisfied: opt-einsum>=2.3.2 in /usr/local/lib/python3.7/dist-packages (from tensorflow==1.15.0) (3.3.0)\n",
            "Requirement already satisfied: absl-py>=0.7.0 in /usr/local/lib/python3.7/dist-packages (from tensorflow==1.15.0) (1.3.0)\n",
            "Requirement already satisfied: six>=1.10.0 in /usr/local/lib/python3.7/dist-packages (from tensorflow==1.15.0) (1.15.0)\n",
            "Requirement already satisfied: grpcio>=1.8.6 in /usr/local/lib/python3.7/dist-packages (from tensorflow==1.15.0) (1.49.1)\n",
            "Requirement already satisfied: keras-applications>=1.0.8 in /usr/local/lib/python3.7/dist-packages (from tensorflow==1.15.0) (1.0.8)\n",
            "Requirement already satisfied: wheel>=0.26 in /usr/local/lib/python3.7/dist-packages (from tensorflow==1.15.0) (0.37.1)\n",
            "Requirement already satisfied: wrapt>=1.11.1 in /usr/local/lib/python3.7/dist-packages (from tensorflow==1.15.0) (1.14.1)\n",
            "Requirement already satisfied: numpy<2.0,>=1.16.0 in /usr/local/lib/python3.7/dist-packages (from tensorflow==1.15.0) (1.19.0)\n",
            "Requirement already satisfied: termcolor>=1.1.0 in /usr/local/lib/python3.7/dist-packages (from tensorflow==1.15.0) (2.0.1)\n",
            "Requirement already satisfied: tensorflow-estimator==1.15.1 in /usr/local/lib/python3.7/dist-packages (from tensorflow==1.15.0) (1.15.1)\n",
            "Requirement already satisfied: tensorboard<1.16.0,>=1.15.0 in /usr/local/lib/python3.7/dist-packages (from tensorflow==1.15.0) (1.15.0)\n",
            "Requirement already satisfied: google-pasta>=0.1.6 in /usr/local/lib/python3.7/dist-packages (from tensorflow==1.15.0) (0.2.0)\n",
            "Requirement already satisfied: keras-preprocessing>=1.0.5 in /usr/local/lib/python3.7/dist-packages (from tensorflow==1.15.0) (1.1.2)\n",
            "Requirement already satisfied: h5py in /usr/local/lib/python3.7/dist-packages (from keras-applications>=1.0.8->tensorflow==1.15.0) (3.1.0)\n",
            "Requirement already satisfied: werkzeug>=0.11.15 in /usr/local/lib/python3.7/dist-packages (from tensorboard<1.16.0,>=1.15.0->tensorflow==1.15.0) (1.0.1)\n",
            "Requirement already satisfied: markdown>=2.6.8 in /usr/local/lib/python3.7/dist-packages (from tensorboard<1.16.0,>=1.15.0->tensorflow==1.15.0) (3.4.1)\n",
            "Requirement already satisfied: setuptools>=41.0.0 in /usr/local/lib/python3.7/dist-packages (from tensorboard<1.16.0,>=1.15.0->tensorflow==1.15.0) (57.4.0)\n",
            "Requirement already satisfied: importlib-metadata>=4.4 in /usr/local/lib/python3.7/dist-packages (from markdown>=2.6.8->tensorboard<1.16.0,>=1.15.0->tensorflow==1.15.0) (4.13.0)\n",
            "Requirement already satisfied: zipp>=0.5 in /usr/local/lib/python3.7/dist-packages (from importlib-metadata>=4.4->markdown>=2.6.8->tensorboard<1.16.0,>=1.15.0->tensorflow==1.15.0) (3.9.0)\n",
            "Requirement already satisfied: typing-extensions>=3.6.4 in /usr/local/lib/python3.7/dist-packages (from importlib-metadata>=4.4->markdown>=2.6.8->tensorboard<1.16.0,>=1.15.0->tensorflow==1.15.0) (4.1.1)\n",
            "Requirement already satisfied: cached-property in /usr/local/lib/python3.7/dist-packages (from h5py->keras-applications>=1.0.8->tensorflow==1.15.0) (1.5.2)\n"
          ]
        }
      ]
    },
    {
      "cell_type": "code",
      "source": [
        "!pip install -q lucid>=0.2.3\n",
        "!pip install -q moviepy"
      ],
      "metadata": {
        "id": "YXv13t34XX7o"
      },
      "execution_count": null,
      "outputs": []
    },
    {
      "cell_type": "code",
      "source": [
        "!pip install imageio==2.4.1"
      ],
      "metadata": {
        "colab": {
          "base_uri": "https://localhost:8080/"
        },
        "id": "Eg1iOrd_FyrX",
        "outputId": "1a297c16-38ad-4e4d-c34d-caf0ddf48eeb"
      },
      "execution_count": null,
      "outputs": [
        {
          "output_type": "stream",
          "name": "stdout",
          "text": [
            "Looking in indexes: https://pypi.org/simple, https://us-python.pkg.dev/colab-wheels/public/simple/\n",
            "Collecting imageio==2.4.1\n",
            "  Downloading imageio-2.4.1.tar.gz (3.3 MB)\n",
            "\u001b[K     |████████████████████████████████| 3.3 MB 28.9 MB/s \n",
            "\u001b[?25hRequirement already satisfied: numpy in /usr/local/lib/python3.7/dist-packages (from imageio==2.4.1) (1.19.0)\n",
            "Requirement already satisfied: pillow in /usr/local/lib/python3.7/dist-packages (from imageio==2.4.1) (7.1.2)\n",
            "Building wheels for collected packages: imageio\n",
            "  Building wheel for imageio (setup.py) ... \u001b[?25l\u001b[?25hdone\n",
            "  Created wheel for imageio: filename=imageio-2.4.1-py3-none-any.whl size=3303885 sha256=12e66ac68f50fe1997a51a606afebc7e51eab29fcfa03f7c6cd0271e98803b4f\n",
            "  Stored in directory: /root/.cache/pip/wheels/46/20/07/7bb9c8c44e6ec2efa60fd0e6280094f53f65f41767ef69a5ee\n",
            "Successfully built imageio\n",
            "Installing collected packages: imageio\n",
            "  Attempting uninstall: imageio\n",
            "    Found existing installation: imageio 2.9.0\n",
            "    Uninstalling imageio-2.9.0:\n",
            "      Successfully uninstalled imageio-2.9.0\n",
            "Successfully installed imageio-2.4.1\n"
          ]
        }
      ]
    },
    {
      "cell_type": "code",
      "source": [
        "import numpy as np\n",
        "import json\n",
        "import moviepy.editor as mvp\n",
        "from google.colab import files\n",
        "import tensorflow.compat.v1.gfile as gfile\n",
        "import lucid.misc.io.showing as show\n",
        "import random as rd"
      ],
      "metadata": {
        "id": "MuQfUYd6XYDH"
      },
      "execution_count": null,
      "outputs": []
    },
    {
      "cell_type": "code",
      "source": [
        "from lucid.misc.gl.glcontext import create_opengl_context\n",
        "\n",
        "# Now it's safe to import OpenGL and EGL functions\n",
        "import OpenGL.GL as gl\n",
        "from OpenGL.GLU import *\n",
        "\n",
        "# create_opengl_context() creates GL context that is attached to an\n",
        "# offscreen surface of specified size. Note that rendering to buffers\n",
        "# of different size and format is still possible with OpenGL Framebuffers.\n",
        "#\n",
        "# Users are expected to directly use EGL calls in case more advanced\n",
        "# context management is required.\n",
        "WIDTH, HEIGHT = 800,600\n",
        "create_opengl_context((WIDTH, HEIGHT))\n",
        "    \n",
        "# OpenGL context is available here.\n",
        "\n",
        "print(gl.glGetString(gl.GL_VERSION))\n",
        "print(gl.glGetString(gl.GL_VENDOR)) \n",
        "#print(gl.glGetString(gl.GL_EXTENSIONS))"
      ],
      "metadata": {
        "id": "-dC6f5NBXcNu",
        "colab": {
          "base_uri": "https://localhost:8080/"
        },
        "outputId": "9297db9e-bc95-4433-df4b-4af02bcec75c"
      },
      "execution_count": null,
      "outputs": [
        {
          "output_type": "stream",
          "name": "stdout",
          "text": [
            "b'4.6.0 NVIDIA 460.32.03'\n",
            "b'NVIDIA Corporation'\n"
          ]
        }
      ]
    },
    {
      "cell_type": "code",
      "source": [
        "def addPixel(a,b):\n",
        "  gl.glVertex2f(a/(WIDTH/2),b/(HEIGHT/2))"
      ],
      "metadata": {
        "id": "k0q-RPNj-Ypn"
      },
      "execution_count": null,
      "outputs": []
    },
    {
      "cell_type": "code",
      "source": [
        "# Let's render something!\n",
        "gl.glClear(gl.GL_COLOR_BUFFER_BIT)\n",
        "\n",
        "\n",
        "gl.glPointSize(5)\n",
        "\n",
        "\n",
        "\n",
        "\n",
        "gl.glColor3f(0,.5,0)\n",
        "gl.glBegin(gl.GL_POINTS)\n",
        "for i in range(50):\n",
        "  x=rd.randint(-401,400)\n",
        "  y=rd.randint(-301,300)\n",
        "  addPixel(x,y)\n",
        "\n",
        "#gl.glVertex2f(.75,.80 )\n",
        "#gl.glVertex2f(.1, 0)\n",
        "\n",
        "gl.glEnd()\n",
        "\n",
        "\n"
      ],
      "metadata": {
        "id": "ANi7Wf-hbL9Y"
      },
      "execution_count": null,
      "outputs": []
    },
    {
      "cell_type": "code",
      "source": [],
      "metadata": {
        "id": "fr74pM4SnqYe"
      },
      "execution_count": null,
      "outputs": []
    },
    {
      "cell_type": "code",
      "source": [],
      "metadata": {
        "id": "y9xW1SFmnqSe"
      },
      "execution_count": null,
      "outputs": []
    },
    {
      "cell_type": "code",
      "source": [
        "img_buf = gl.glReadPixelsub(0, 0, WIDTH, HEIGHT, gl.GL_RGB, gl.GL_UNSIGNED_BYTE)\n",
        "img = np.frombuffer(img_buf, np.uint8).reshape(HEIGHT, WIDTH, 3)[::-1]\n",
        "show.image(img/255.0)"
      ],
      "metadata": {
        "colab": {
          "base_uri": "https://localhost:8080/",
          "height": 622
        },
        "id": "e6JCjyDMyE75",
        "outputId": "c39d0a56-327f-4c71-f5d6-98302f1edc27"
      },
      "execution_count": null,
      "outputs": [
        {
          "output_type": "display_data",
          "data": {
            "text/plain": [
              "<IPython.core.display.HTML object>"
            ],
            "text/html": [
              "<img src=\"data:image/PNG;base64,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\" style=\"image-rendering: pixelated; image-rendering: crisp-edges;\">"
            ]
          },
          "metadata": {}
        }
      ]
    },
    {
      "cell_type": "code",
      "source": [],
      "metadata": {
        "id": "t9xPswvr9_W6"
      },
      "execution_count": null,
      "outputs": []
    },
    {
      "cell_type": "code",
      "source": [
        "from OpenGL.raw.GL.VERSION.GL_1_0 import GL_POINT_SMOOTH\n",
        "# Let's render something!\n",
        "gl.glClear(gl.GL_COLOR_BUFFER_BIT)\n",
        "\n",
        "\n",
        "gl.glPointSize(5)\n",
        "\n",
        "# For turning the background white\n",
        "gl.glBegin(gl.GL_QUADS)\n",
        "gl.glColor3f(1,1,1)\n",
        "addPixel(400,300)\n",
        "addPixel(400,-300)\n",
        "addPixel(-400,-300)\n",
        "addPixel(-400,300)\n",
        "gl.glEnd()\n",
        "\n",
        "\n",
        "\n",
        "gl.glColor3f(0,0,0)\n",
        "gl.glBegin(gl.GL_LINES)\n",
        "#sides\n",
        "addPixel(300,50)\n",
        "addPixel(300,-300)\n",
        "addPixel(-300,50)\n",
        "addPixel(-300,-300)\n",
        "#roof\n",
        "addPixel(-350,50)\n",
        "addPixel(350,50)\n",
        "addPixel(0,250)\n",
        "addPixel(350,50)\n",
        "addPixel(0,250)\n",
        "addPixel(-350,50)\n",
        "#door\n",
        "addPixel(50,-150)\n",
        "addPixel(50,-300)\n",
        "addPixel(-50,-150)\n",
        "addPixel(-50,-300)\n",
        "addPixel(50,-150)\n",
        "addPixel(-50,-150)\n",
        "#window1\n",
        "addPixel(100,-100)\n",
        "addPixel(250,-100)\n",
        "addPixel(100,-100)\n",
        "addPixel(100,0)\n",
        "addPixel(100,0)\n",
        "addPixel(250,0)\n",
        "addPixel(250,-100)\n",
        "addPixel(250,0)\n",
        "#window2\n",
        "addPixel(-100,-100)\n",
        "addPixel(-250,-100)\n",
        "addPixel(-100,-100)\n",
        "addPixel(-100,0)\n",
        "addPixel(-100,0)\n",
        "addPixel(-250,0)\n",
        "addPixel(-250,-100)\n",
        "addPixel(-250,0)\n",
        "gl.glEnd()\n",
        "#doorknob\n",
        "gl.glEnable(GL_POINT_SMOOTH)\n",
        "gl.glPointSize(7)\n",
        "gl.glBegin(gl.GL_POINTS)\n",
        "addPixel(40,-230)\n",
        "gl.glEnd()\n",
        "\n",
        "\n",
        "\n"
      ],
      "metadata": {
        "id": "vLLZZSax9_uP"
      },
      "execution_count": null,
      "outputs": []
    },
    {
      "cell_type": "code",
      "source": [
        "img_buf = gl.glReadPixelsub(0, 0, WIDTH, HEIGHT, gl.GL_RGB, gl.GL_UNSIGNED_BYTE)\n",
        "img = np.frombuffer(img_buf, np.uint8).reshape(HEIGHT, WIDTH, 3)[::-1]\n",
        "show.image(img/255.0)"
      ],
      "metadata": {
        "id": "evjH-3l5fE3w",
        "outputId": "81277585-0c7f-4d6c-9d36-8692d2b8d5c6",
        "colab": {
          "base_uri": "https://localhost:8080/",
          "height": 622
        }
      },
      "execution_count": null,
      "outputs": [
        {
          "output_type": "display_data",
          "data": {
            "text/plain": [
              "<IPython.core.display.HTML object>"
            ],
            "text/html": [
              "<img src=\"data:image/PNG;base64,iVBORw0KGgoAAAANSUhEUgAAAyAAAAJYCAIAAAAVFBUnAAAQWElEQVR4nO3cy3LbSBZAQbPD///LnIU6PHLrRYkHQD0yV+5ZQUTVrQMSMbf7/f4LAIDOP1dfAADAagQWAEBMYAEAxAQWAEBMYAEAxAQWAEBMYAEAxAQWAEBMYAEAxAQWAEBMYAEAxAQWAEBMYAEAxAQWAEBMYAEAxAQWAEBMYAEAxAQWAEBMYAEAxAQWAEBMYAEAxAQWAEBMYAEAxAQWAEBMYAEAxAQWAEBMYAEAxAQWAEBMYAEAxAQWAEBMYAEAxAQWAEBMYAEAxAQWAEBMYAEAxAQWAEBMYAEAxAQWAEBMYAEAxAQWAEBMYAEAxAQWAEBMYAEAxAQWAEBMYAEAxAQWAEBMYAEAxAQWAEBMYAEAxH5ffQEAX7vdbn/+fb/fL7wSgEcILGB0t9vtdVT95z8BBmROAeN6+eLq7Zj66H8HGITAAkb0SELJLGBYAgsYy3ezSWYBAxJYwEB+/H6VF7OAoRhJwBCe/yLKV1nAOAQWcLE2jGQWMAKBBVzmuBiSWcC1BBZwjRPemvJiFnAV0wc425lfL/kqC7iEwALOc1XuyCzgZAILOMMIiTPCNQCbEFjA4YZ6F2qoiwFWZdAABxrzS6MxrwpYicACDjF+xIx/hcC8BBYQmytc5rpaYBYCCyhN+obTpJcNDMtMARqzfxU0+/UDQxFYwLNWSpOV/hbgQgIL+LlVc2TVvws4jcACfmj595aW/wOB4xgfwLft8wXPPn8p0BJYwDfsGRx7/tXAMwQW8BCR4RMAHiewgK95G+kPHwXwCJMC+Iyvbd7ymQBfEljA+2TE53w+wCcEFvBf0uFxPivgXQIL+It3jH7Ahwb8h6EA/MuXMc/w6QGvCSxAHGR8ksALgQVbEwRH8KkCAgv25c2hQ/l4YWf2P+zIVyzn8DnDtgQW7MWRfz6fOWxIYMEuHPPX8vnDVgQWbMH7QINwI2ATtjoszhcno3FHYAcCC5blIB+ZuwNrE1iwIIf3LNwpWJXAgtV4y2c6bhmsx66Gdfg6ZF7uHSxGYMEKHM9rcB9hGQIL5uZIXo97CgsQWDAx7+4szM2FqdnAMCVfcuzAXYZ5CSyYjEN3N+44zEhgwTQctDtz92EuAgvm4I0cflkGMA97FUbnqwtesx5gCgILxuUo5SPWBgxOYMGIHJ88wjqBYQksGI73bPgWCwYGZFvCQHwhwc9YOTAagQVDcEDyPKsIxiGw4GIORVpWFIxAYMGVvD3DQSwtuJYdCNfwNQNHs8bgQgILzubY40zWG1xCYMF5HHVcxdqDkwksOIl3YricRQinsdngcL48YBxWI5xDYMGBHGaMycqEowksOIQDjPFZpXAcgQU9b7owEcsVjmBfQclXAszIuoWcwIKGI4rZWcMQEljwLMcSK7GeISGw4CneX2FJFjY8yRaCH/Kgz9qscHiGwIJvc/CwD6sdfkZgwTc4bNiTlQ/fJbDgUd5KYXO2ADzOboGveXyHF/YCPEhgwWccJ/CWfQFfEljwPkcIfM4egU8ILHiHd03gQTYLvMvGgL94KIfvsmvgLYEF/3JIwDPsIHhNYIGDATJ2E7wQWOzOGySQs63AHmBfHrXhOPYXmxNY7Mjoh3PYa2xLYLEX4x7OZ9+xIYHFRrwXAheyAdmK5c4WPEDDCOxE9iGwWJyBDqOxK9mBwGJZhjiMzA5lbQKLNXnbA6Zgq7IqK5vVeCyGudizLElgsQ5jGuZl/7IYgcUKjGZYg73MMgQW0/MOByzGpmYBFjET87ALq7K7mZ3AYkqGL+zATmdeAovJGLiwG7ueGQksZuLNDNiW7c9crFfm4BEWMAeYiMBidEYq8JqZwBQEFuMyRoGPmA8MTmAxKO9bAF8yKBiWpclwPJgCjzMxGJPAYiAGJfAzpgejEVgMwXAEnmeSMA6BxfW8RQGEjBRGYBVyJY+bwBHMFi4nsLiG8QcczZzhQgKLsxl5wJnMHC4hsDiVdyOASxg+nMyC4yQeIoFrmUKcSWBxOEMNGIeJxDkEFgcyyIAxmU4cTWBxFG88AIMzpjiOtUXPoyEwC/OKgwgsSkYVMCOzi5zAomE8AbMzxwgJLALeYwCWYaCRsIx4igc+YD0mG88TWPyQAQSszZTjGQKLbzN0gH2YePyMwOJ7vJ0AbMjo47usGB7lMQ7YmRnItwgsvmasALwwD3mQwOIzRgnAW2YjXxJYfMg7BwCfMCT5hMXBOzycATzCtOQjAou/GBYA32Vy8pbA4l8GBMAzTFFeE1j8+uVNAoCIccoL62B3HrkAWuYqvwTWzowAgOOYsZsTWDuy7QHOYd5uS2Btx/sBACczeDfklm/EgxTAVUzg3QisLdjYACMwjfchsBZnMwOMxmTegcBamV/9AYZlRK/N3V2TxyOA8ZnVCxNYq7FdAeZibi9JYK3DFgWYlxm+GIG1CL/lAyzAMF+GGzk9Dz0AKzHV1yCwJmYTAqzKhJ+dwJqSjQewA9N+XgJrPn6hB9iKsT8j92wmHmUA9mT+T0dgzcHWAsBZMBGBNTrbCYDXnAtTEFhD87s7AO9yQAzO7RmUBxQAPuekGJnAGo4NA8DjnBpjElgDsUkA+BknyGgE1ij8mg7Akxwl43AnruexA4CKM2UQAutKtgEAR3C+XE5gXcPSB+BozpoLCawL+I0cgNM4dC7hQz+VhwkAzuf0OZ/AOonFDcC1nERnEliHs6ABGIdT6RwC61h++QZgQI6no/l8j+IRAYCROacOJbB6liwAs3BmHURglSxTAGbk/MoJrIzfswGYmoMs5KMMCH8A1uBEqwisp1iIAKzH6fY8gfVDFh8Aa3PSPUNg/YRfqQHYhCPvZ3xq3yPnAdiNs+8HBNajLC8AduYc/BaB9TVLCgBeOBMfJLC+4LdnAPgPh+OXfEAfEukA8BGn5OcE1jssGgB4hBPzIwLrLxYKAHyX0/MtgfV/flEGgB9zjL7ms/j1S3oDQMF5+sfugWUpAEDL2fpr58By+wHgOJufs5sGlt+JAeAE2x642/3Zmwc1AJxsz5N3o8Da8wYDwAh2O4W3CKzdbioAjGmfE3n9wNr2118AGNMOR/PKf+E+mQwAc1n+jF4zsJa/bQCwgIXP69UCa+FbBQBLWvLsXiqwdvhNFwCWtNghvsgfs2T8AsBWVjrNpw+slW4GALDGyT5xYK1xAwCAt2Y/5WcNrMV+qQUA3pr3uJ/vumdPWgDgcZOe+zMF1qQfMQDwpOkaYI7Amu5jBQByE/XABIE17++vAEBuijAY+hInClUA4DTjF8KggTX+BwcAXGvkWvh99QV85uWDAwCYy6DfYA1oil98AeAgzsFv+efqCwAAWI3AAgCICSwAgJjAAgCICSwAgJjAAgCICSwAgJjAAgCICSwAgJjAAgCICSwAgJjAAgCICSwAgJjAAgCICSwAgJjAAgCICSwAgJjAAgCICSwAgJjAAgCICSwAgJjAAgCICSwAgJjAAgCICSwAgJjAAgCICSwAgJjAAgCICSwAgJjAAgCICSwAgJjAAgCICSwAgJjAAgCICSwAgJjAAgCICSwAgJjAAgCICSwAgJjAAgCICSwAgJjAAgCICSwAgJjAAgCICSwAgJjAAgCICSwAgJjAAgCI/b76AnjK7Xa7+hJ41v1+v/oSWI3JsACTYXYCa3o24dQchBzEZJiaybAAPxECAMQEFgBATGABAMQEFgBATGABAMQEFgBATGABAMQEFgBATGABAMQEFgBATGABAMQEFgBATGABAMQEFgBATGABAMQEFgBATGABAMQEFgBATGABAMQEFgBATGABAMQEFgBATGABAMQEFgBATGABAMQEFgBATGABAMQEFgBATGABAMQEFgBATGABAMQEFgBATGABAMQEFgBATGABAMQEFgBATGABAMQEFgBATGABAMQEFgBATGABAMQEFgBATGABAMQEFgBATGABAMQEFgBATGABAMQEFgBATGABAMQEFgBATGABAMQEFgBATGABAMQEFgBATGABAMQEFgBATGABAMQEFgBATGABAMQEFgBATGABAMQEFgBATGABAMQEFgBATGABAMQEFgBATGABAMQEFgBATGABAMQEFgBATGABAMQEFgBATGABAMQEFgBATGABAMQEFgBATGABAMQEFgBATGABAMQEFgBATGABAMQEFgBATGABAMQEFgBATGABAMQEFgBATGABAMQEFgBATGABAMQEFgBATGABAMQEFgBATGABAMQEFgBATGABAMQEFgBATGABAMQEFgBA7PfVF8BT7vf77Xa7+iqAsZgMcDmBNb37/X71JQDDMRngWn4iBACICSwAgJjAAgCICSwAgJjAAgCICSwAgJjAAgCICSwAgJjAAgCICSwAgJjAAgCICSwAgJjAAgCICSwAgJjAAgCICSwAgJjAAgCICSwAgJjAAgCICSwAgJjAAgCICSwAgJjAAgCICSwAgJjAAgCICSwAgJjAAgCICSwAgJjAAgCICSwAgJjAAgCICSwAgJjAAgCICSwAgJjAAgCICSwAgJjAAgCICSwAgJjAAgCICSwAgJjAAgCICSwAgJjAAgCICSwAgJjAAgCICSwAgJjAAgCICSwAgNjvqy8AGM7tdrv6EmZyv9+vvgRgOAILeIdoeJAYBd7lJ0IAgJjAAgCICSwAgJjAAgCICSwAgJjAAgCICSwAgJjAAgCICSwAgJjAAgCICSwAgJjAAgCICSwAgJjAAgCICSwAgJjAAgCICSwAgJjAAgCICSwAgJjAAgCICSwAgJjAAgCICSwAgJjAAgCICSwAgJjAAgCICSwAgJjAAgCICSwAgJjAAgCICSwAgJjAAgCICSwAgJjAAgCICSwAgJjAAgCICSwAgJjAAgCICSwAgJjAAgCICSwAgJjAAgCICSwAgJjAAgCICSwAgJjAAgCICSwAgJjAAgCICSwAgJjAAgCICSwAgJjAAgCICSwAgJjAAgCICSwAgJjAAgCICSwAgJjAAgCICSwAgJjAAgCICSwAgJjAAgCICSwAgJjAAgCICSwAgJjAAgCICSwAgJjAAgCICSwAgJjAAgCICSwAgJjAAgCICSwAgJjAAgCI/b76AgDGdbvdXv5xv9+vvRJgLr7BAnjfn7p6+ffr/wT4nMACeIecAp4hsAAepbqABwksAICYwAJ4lFfdgQcJLIB3aCngGQIL4H2vG+t+v0su4HH+f7AAPiSqgJ/xDRYAQExgAQDEBBYAQExgAQDEBBYAQExgAQDEBBYAQExgAQDEBBYAQExgAQDEBBYAQExgAQDEBBYAQExgAQDEBBYAQExgAQDEBBYAQExgAQDEBBYAQExgAQDEBBYAQExgAQDEBBYAQExgAQDEBBYAQExgAQDEBBYAQExgAQDEBBYAQExgAQDEBBYAQExgAQDEBBYAQExgAQDEBBYAQExgAQDEBBYAQExgAQDEBBYAQExgAQDEBBYAQExgAQDEBBYAQExgAQDEBBYAQExgAQDEBBYAQExgAQDEBBYAQExgAQDEBBYAQExgAQDEBBYAQExgAQDEBBYAQExgAQDEBBYAQExgAQDEBBYAQExgAQDEBBYAQExgAQDEBBYAQExgAQDEBBYAQOx/qMdACgnTp70AAAAASUVORK5CYII=\" style=\"image-rendering: pixelated; image-rendering: crisp-edges;\">"
            ]
          },
          "metadata": {}
        }
      ]
    }
  ]
}